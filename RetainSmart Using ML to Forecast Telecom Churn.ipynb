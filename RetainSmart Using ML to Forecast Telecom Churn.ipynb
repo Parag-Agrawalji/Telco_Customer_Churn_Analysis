{
 "cells": [
  {
   "attachments": {},
   "cell_type": "markdown",
   "id": "0a8221ac-fcd5-435d-827a-ca581ea27e1e",
   "metadata": {},
   "source": [
    "# 📊 RetainSmart: Using ML to Forecast Telecom Churn"
   ]
  },
  {
   "cell_type": "markdown",
   "id": "c26dda1c-3f0d-4b9d-b6cf-e162f762c405",
   "metadata": {},
   "source": [
    "**In a highly competitive telecom industry, retaining existing customers is just as critical as acquiring new ones. Customer churn—when a customer discontinues their service—is a key metric that directly impacts a company’s revenue and growth.**\n",
    "\n",
    "**This project focuses on analyzing a real-world Telco Customer Churn dataset, intending to identify patterns and build a predictive model to determine which customers are likely to churn. By uncovering the factors contributing to churn, telecom providers can design targeted strategies to improve customer satisfaction and reduce turnover.**"
   ]
  },
  {
   "cell_type": "markdown",
   "id": "179bcb6a-77ca-4f36-90e0-56ae6e4a9796",
   "metadata": {},
   "source": [
    "**🎯 Goal of This Project:**\n",
    "\n",
    "**Exploratory Data Analysis (EDA) to identify churn drivers**\n",
    "\n",
    "**Data cleaning and preprocessing for model readiness**\n",
    "\n",
    "**Visualizing customer behavior trends**\n",
    "\n",
    "**Building and evaluating machine learning models**\n",
    "\n",
    "**Extracting actionable business insights**\n",
    "\n",
    "**The end goal is to deliver a data-driven approach to customer retention, helping the business proactively engage at-risk customers before they leave.**"
   ]
  },
  {
   "cell_type": "markdown",
   "id": "dc33ccfa-0053-45a2-86c0-a92b53c93c40",
   "metadata": {},
   "source": [
    "## Importing important libraries"
   ]
  },
  {
   "cell_type": "code",
   "execution_count": 155,
   "id": "f6ba7dc3-0b7f-439b-b1a1-924eb8d13ee1",
   "metadata": {},
   "outputs": [],
   "source": [
    "import numpy as np\n",
    "import pandas as pd\n",
    "import matplotlib.pyplot as plt\n",
    "import pickle\n",
    "import seaborn as sns\n",
    "import os\n",
    "import matplotlib.patches as mpatches"
   ]
  },
  {
   "cell_type": "markdown",
   "id": "8ad4d8f3-7b49-4e00-b66c-b457f0b24efb",
   "metadata": {},
   "source": [
    "## 📌 Step 1: Load the Dataset"
   ]
  },
  {
   "cell_type": "markdown",
   "id": "2ffe4252-a6b4-4ecd-b6fc-47f39d1486f0",
   "metadata": {},
   "source": [
    "**Goal: Import the Telco Customer Churn dataset into a pandas DataFrame for deeper exploration and analysis.**"
   ]
  },
  {
   "cell_type": "code",
   "execution_count": 156,
   "id": "da7fcedd-fa44-43b8-8502-d992a8865a5c",
   "metadata": {},
   "outputs": [],
   "source": [
    "# Load the dataset\n",
    "file_Path = \"C:\\\\Users\\\\acer\\\\ParagAnacondaWB\\\\Customer Churn Prediction\\\\Telco Customer Churn\\\\Telco-Customer-Churn.csv\""
   ]
  },
  {
   "cell_type": "code",
   "execution_count": 157,
   "id": "89c4a942-512c-41ff-adfe-0c46d052eab2",
   "metadata": {},
   "outputs": [],
   "source": [
    "Churn = pd.read_csv(file_Path)"
   ]
  },
  {
   "cell_type": "code",
   "execution_count": 158,
   "id": "94e0518e-66e1-4f0a-be6f-f221415291d1",
   "metadata": {},
   "outputs": [
    {
     "data": {
      "text/html": [
       "<div>\n",
       "<style scoped>\n",
       "    .dataframe tbody tr th:only-of-type {\n",
       "        vertical-align: middle;\n",
       "    }\n",
       "\n",
       "    .dataframe tbody tr th {\n",
       "        vertical-align: top;\n",
       "    }\n",
       "\n",
       "    .dataframe thead th {\n",
       "        text-align: right;\n",
       "    }\n",
       "</style>\n",
       "<table border=\"1\" class=\"dataframe\">\n",
       "  <thead>\n",
       "    <tr style=\"text-align: right;\">\n",
       "      <th></th>\n",
       "      <th>customerID</th>\n",
       "      <th>gender</th>\n",
       "      <th>SeniorCitizen</th>\n",
       "      <th>Partner</th>\n",
       "      <th>Dependents</th>\n",
       "      <th>tenure</th>\n",
       "      <th>PhoneService</th>\n",
       "      <th>MultipleLines</th>\n",
       "      <th>InternetService</th>\n",
       "      <th>OnlineSecurity</th>\n",
       "      <th>...</th>\n",
       "      <th>DeviceProtection</th>\n",
       "      <th>TechSupport</th>\n",
       "      <th>StreamingTV</th>\n",
       "      <th>StreamingMovies</th>\n",
       "      <th>Contract</th>\n",
       "      <th>PaperlessBilling</th>\n",
       "      <th>PaymentMethod</th>\n",
       "      <th>MonthlyCharges</th>\n",
       "      <th>TotalCharges</th>\n",
       "      <th>Churn</th>\n",
       "    </tr>\n",
       "  </thead>\n",
       "  <tbody>\n",
       "    <tr>\n",
       "      <th>0</th>\n",
       "      <td>7590-VHVEG</td>\n",
       "      <td>Female</td>\n",
       "      <td>0</td>\n",
       "      <td>Yes</td>\n",
       "      <td>No</td>\n",
       "      <td>1</td>\n",
       "      <td>No</td>\n",
       "      <td>No phone service</td>\n",
       "      <td>DSL</td>\n",
       "      <td>No</td>\n",
       "      <td>...</td>\n",
       "      <td>No</td>\n",
       "      <td>No</td>\n",
       "      <td>No</td>\n",
       "      <td>No</td>\n",
       "      <td>Month-to-month</td>\n",
       "      <td>Yes</td>\n",
       "      <td>Electronic check</td>\n",
       "      <td>29.85</td>\n",
       "      <td>29.85</td>\n",
       "      <td>No</td>\n",
       "    </tr>\n",
       "    <tr>\n",
       "      <th>1</th>\n",
       "      <td>5575-GNVDE</td>\n",
       "      <td>Male</td>\n",
       "      <td>0</td>\n",
       "      <td>No</td>\n",
       "      <td>No</td>\n",
       "      <td>34</td>\n",
       "      <td>Yes</td>\n",
       "      <td>No</td>\n",
       "      <td>DSL</td>\n",
       "      <td>Yes</td>\n",
       "      <td>...</td>\n",
       "      <td>Yes</td>\n",
       "      <td>No</td>\n",
       "      <td>No</td>\n",
       "      <td>No</td>\n",
       "      <td>One year</td>\n",
       "      <td>No</td>\n",
       "      <td>Mailed check</td>\n",
       "      <td>56.95</td>\n",
       "      <td>1889.5</td>\n",
       "      <td>No</td>\n",
       "    </tr>\n",
       "    <tr>\n",
       "      <th>2</th>\n",
       "      <td>3668-QPYBK</td>\n",
       "      <td>Male</td>\n",
       "      <td>0</td>\n",
       "      <td>No</td>\n",
       "      <td>No</td>\n",
       "      <td>2</td>\n",
       "      <td>Yes</td>\n",
       "      <td>No</td>\n",
       "      <td>DSL</td>\n",
       "      <td>Yes</td>\n",
       "      <td>...</td>\n",
       "      <td>No</td>\n",
       "      <td>No</td>\n",
       "      <td>No</td>\n",
       "      <td>No</td>\n",
       "      <td>Month-to-month</td>\n",
       "      <td>Yes</td>\n",
       "      <td>Mailed check</td>\n",
       "      <td>53.85</td>\n",
       "      <td>108.15</td>\n",
       "      <td>Yes</td>\n",
       "    </tr>\n",
       "  </tbody>\n",
       "</table>\n",
       "<p>3 rows × 21 columns</p>\n",
       "</div>"
      ],
      "text/plain": [
       "   customerID  gender  SeniorCitizen Partner Dependents  tenure PhoneService  \\\n",
       "0  7590-VHVEG  Female              0     Yes         No       1           No   \n",
       "1  5575-GNVDE    Male              0      No         No      34          Yes   \n",
       "2  3668-QPYBK    Male              0      No         No       2          Yes   \n",
       "\n",
       "      MultipleLines InternetService OnlineSecurity  ... DeviceProtection  \\\n",
       "0  No phone service             DSL             No  ...               No   \n",
       "1                No             DSL            Yes  ...              Yes   \n",
       "2                No             DSL            Yes  ...               No   \n",
       "\n",
       "  TechSupport StreamingTV StreamingMovies        Contract PaperlessBilling  \\\n",
       "0          No          No              No  Month-to-month              Yes   \n",
       "1          No          No              No        One year               No   \n",
       "2          No          No              No  Month-to-month              Yes   \n",
       "\n",
       "      PaymentMethod MonthlyCharges  TotalCharges Churn  \n",
       "0  Electronic check          29.85         29.85    No  \n",
       "1      Mailed check          56.95        1889.5    No  \n",
       "2      Mailed check          53.85        108.15   Yes  \n",
       "\n",
       "[3 rows x 21 columns]"
      ]
     },
     "execution_count": 158,
     "metadata": {},
     "output_type": "execute_result"
    }
   ],
   "source": [
    "# Display basic information\n",
    "Churn.head(3)"
   ]
  },
  {
   "cell_type": "markdown",
   "id": "975111fd-a231-42cc-8ea2-9687924558e7",
   "metadata": {},
   "source": [
    "## 📌 Step 2: Exploratory Data Analysis (EDA) & Data Cleaning"
   ]
  },
  {
   "cell_type": "markdown",
   "id": "7101ece5-56de-498c-9b5c-1e5b9e6506ab",
   "metadata": {},
   "source": [
    "**Objective: Comprehend the dataset's structure and quality. Recognize and address missing values, incorrect data types, and inconsistencies.**"
   ]
  },
  {
   "cell_type": "code",
   "execution_count": 159,
   "id": "7c4fa9d7-a824-4908-a790-d3c508398f61",
   "metadata": {},
   "outputs": [
    {
     "data": {
      "text/html": [
       "<div>\n",
       "<style scoped>\n",
       "    .dataframe tbody tr th:only-of-type {\n",
       "        vertical-align: middle;\n",
       "    }\n",
       "\n",
       "    .dataframe tbody tr th {\n",
       "        vertical-align: top;\n",
       "    }\n",
       "\n",
       "    .dataframe thead th {\n",
       "        text-align: right;\n",
       "    }\n",
       "</style>\n",
       "<table border=\"1\" class=\"dataframe\">\n",
       "  <thead>\n",
       "    <tr style=\"text-align: right;\">\n",
       "      <th></th>\n",
       "      <th>customerID</th>\n",
       "      <th>gender</th>\n",
       "      <th>SeniorCitizen</th>\n",
       "      <th>Partner</th>\n",
       "      <th>Dependents</th>\n",
       "      <th>tenure</th>\n",
       "      <th>PhoneService</th>\n",
       "      <th>MultipleLines</th>\n",
       "      <th>InternetService</th>\n",
       "      <th>OnlineSecurity</th>\n",
       "      <th>...</th>\n",
       "      <th>DeviceProtection</th>\n",
       "      <th>TechSupport</th>\n",
       "      <th>StreamingTV</th>\n",
       "      <th>StreamingMovies</th>\n",
       "      <th>Contract</th>\n",
       "      <th>PaperlessBilling</th>\n",
       "      <th>PaymentMethod</th>\n",
       "      <th>MonthlyCharges</th>\n",
       "      <th>TotalCharges</th>\n",
       "      <th>Churn</th>\n",
       "    </tr>\n",
       "  </thead>\n",
       "  <tbody>\n",
       "    <tr>\n",
       "      <th>0</th>\n",
       "      <td>7590-VHVEG</td>\n",
       "      <td>Female</td>\n",
       "      <td>0</td>\n",
       "      <td>Yes</td>\n",
       "      <td>No</td>\n",
       "      <td>1</td>\n",
       "      <td>No</td>\n",
       "      <td>No phone service</td>\n",
       "      <td>DSL</td>\n",
       "      <td>No</td>\n",
       "      <td>...</td>\n",
       "      <td>No</td>\n",
       "      <td>No</td>\n",
       "      <td>No</td>\n",
       "      <td>No</td>\n",
       "      <td>Month-to-month</td>\n",
       "      <td>Yes</td>\n",
       "      <td>Electronic check</td>\n",
       "      <td>29.85</td>\n",
       "      <td>29.85</td>\n",
       "      <td>No</td>\n",
       "    </tr>\n",
       "    <tr>\n",
       "      <th>1</th>\n",
       "      <td>5575-GNVDE</td>\n",
       "      <td>Male</td>\n",
       "      <td>0</td>\n",
       "      <td>No</td>\n",
       "      <td>No</td>\n",
       "      <td>34</td>\n",
       "      <td>Yes</td>\n",
       "      <td>No</td>\n",
       "      <td>DSL</td>\n",
       "      <td>Yes</td>\n",
       "      <td>...</td>\n",
       "      <td>Yes</td>\n",
       "      <td>No</td>\n",
       "      <td>No</td>\n",
       "      <td>No</td>\n",
       "      <td>One year</td>\n",
       "      <td>No</td>\n",
       "      <td>Mailed check</td>\n",
       "      <td>56.95</td>\n",
       "      <td>1889.5</td>\n",
       "      <td>No</td>\n",
       "    </tr>\n",
       "    <tr>\n",
       "      <th>2</th>\n",
       "      <td>3668-QPYBK</td>\n",
       "      <td>Male</td>\n",
       "      <td>0</td>\n",
       "      <td>No</td>\n",
       "      <td>No</td>\n",
       "      <td>2</td>\n",
       "      <td>Yes</td>\n",
       "      <td>No</td>\n",
       "      <td>DSL</td>\n",
       "      <td>Yes</td>\n",
       "      <td>...</td>\n",
       "      <td>No</td>\n",
       "      <td>No</td>\n",
       "      <td>No</td>\n",
       "      <td>No</td>\n",
       "      <td>Month-to-month</td>\n",
       "      <td>Yes</td>\n",
       "      <td>Mailed check</td>\n",
       "      <td>53.85</td>\n",
       "      <td>108.15</td>\n",
       "      <td>Yes</td>\n",
       "    </tr>\n",
       "    <tr>\n",
       "      <th>3</th>\n",
       "      <td>7795-CFOCW</td>\n",
       "      <td>Male</td>\n",
       "      <td>0</td>\n",
       "      <td>No</td>\n",
       "      <td>No</td>\n",
       "      <td>45</td>\n",
       "      <td>No</td>\n",
       "      <td>No phone service</td>\n",
       "      <td>DSL</td>\n",
       "      <td>Yes</td>\n",
       "      <td>...</td>\n",
       "      <td>Yes</td>\n",
       "      <td>Yes</td>\n",
       "      <td>No</td>\n",
       "      <td>No</td>\n",
       "      <td>One year</td>\n",
       "      <td>No</td>\n",
       "      <td>Bank transfer (automatic)</td>\n",
       "      <td>42.30</td>\n",
       "      <td>1840.75</td>\n",
       "      <td>No</td>\n",
       "    </tr>\n",
       "    <tr>\n",
       "      <th>4</th>\n",
       "      <td>9237-HQITU</td>\n",
       "      <td>Female</td>\n",
       "      <td>0</td>\n",
       "      <td>No</td>\n",
       "      <td>No</td>\n",
       "      <td>2</td>\n",
       "      <td>Yes</td>\n",
       "      <td>No</td>\n",
       "      <td>Fiber optic</td>\n",
       "      <td>No</td>\n",
       "      <td>...</td>\n",
       "      <td>No</td>\n",
       "      <td>No</td>\n",
       "      <td>No</td>\n",
       "      <td>No</td>\n",
       "      <td>Month-to-month</td>\n",
       "      <td>Yes</td>\n",
       "      <td>Electronic check</td>\n",
       "      <td>70.70</td>\n",
       "      <td>151.65</td>\n",
       "      <td>Yes</td>\n",
       "    </tr>\n",
       "  </tbody>\n",
       "</table>\n",
       "<p>5 rows × 21 columns</p>\n",
       "</div>"
      ],
      "text/plain": [
       "   customerID  gender  SeniorCitizen Partner Dependents  tenure PhoneService  \\\n",
       "0  7590-VHVEG  Female              0     Yes         No       1           No   \n",
       "1  5575-GNVDE    Male              0      No         No      34          Yes   \n",
       "2  3668-QPYBK    Male              0      No         No       2          Yes   \n",
       "3  7795-CFOCW    Male              0      No         No      45           No   \n",
       "4  9237-HQITU  Female              0      No         No       2          Yes   \n",
       "\n",
       "      MultipleLines InternetService OnlineSecurity  ... DeviceProtection  \\\n",
       "0  No phone service             DSL             No  ...               No   \n",
       "1                No             DSL            Yes  ...              Yes   \n",
       "2                No             DSL            Yes  ...               No   \n",
       "3  No phone service             DSL            Yes  ...              Yes   \n",
       "4                No     Fiber optic             No  ...               No   \n",
       "\n",
       "  TechSupport StreamingTV StreamingMovies        Contract PaperlessBilling  \\\n",
       "0          No          No              No  Month-to-month              Yes   \n",
       "1          No          No              No        One year               No   \n",
       "2          No          No              No  Month-to-month              Yes   \n",
       "3         Yes          No              No        One year               No   \n",
       "4          No          No              No  Month-to-month              Yes   \n",
       "\n",
       "               PaymentMethod MonthlyCharges  TotalCharges Churn  \n",
       "0           Electronic check          29.85         29.85    No  \n",
       "1               Mailed check          56.95        1889.5    No  \n",
       "2               Mailed check          53.85        108.15   Yes  \n",
       "3  Bank transfer (automatic)          42.30       1840.75    No  \n",
       "4           Electronic check          70.70        151.65   Yes  \n",
       "\n",
       "[5 rows x 21 columns]"
      ]
     },
     "execution_count": 159,
     "metadata": {},
     "output_type": "execute_result"
    }
   ],
   "source": [
    "Churn.head(5)"
   ]
  },
  {
   "cell_type": "code",
   "execution_count": 160,
   "id": "392b5b1c-7e8d-4584-8b1e-0bb2ea1f436a",
   "metadata": {},
   "outputs": [
    {
     "name": "stdout",
     "output_type": "stream",
     "text": [
      "<class 'pandas.core.frame.DataFrame'>\n",
      "RangeIndex: 7043 entries, 0 to 7042\n",
      "Data columns (total 21 columns):\n",
      " #   Column            Non-Null Count  Dtype  \n",
      "---  ------            --------------  -----  \n",
      " 0   customerID        7043 non-null   object \n",
      " 1   gender            7043 non-null   object \n",
      " 2   SeniorCitizen     7043 non-null   int64  \n",
      " 3   Partner           7043 non-null   object \n",
      " 4   Dependents        7043 non-null   object \n",
      " 5   tenure            7043 non-null   int64  \n",
      " 6   PhoneService      7043 non-null   object \n",
      " 7   MultipleLines     7043 non-null   object \n",
      " 8   InternetService   7043 non-null   object \n",
      " 9   OnlineSecurity    7043 non-null   object \n",
      " 10  OnlineBackup      7043 non-null   object \n",
      " 11  DeviceProtection  7043 non-null   object \n",
      " 12  TechSupport       7043 non-null   object \n",
      " 13  StreamingTV       7043 non-null   object \n",
      " 14  StreamingMovies   7043 non-null   object \n",
      " 15  Contract          7043 non-null   object \n",
      " 16  PaperlessBilling  7043 non-null   object \n",
      " 17  PaymentMethod     7043 non-null   object \n",
      " 18  MonthlyCharges    7043 non-null   float64\n",
      " 19  TotalCharges      7043 non-null   object \n",
      " 20  Churn             7043 non-null   object \n",
      "dtypes: float64(1), int64(2), object(18)\n",
      "memory usage: 1.1+ MB\n"
     ]
    }
   ],
   "source": [
    "Churn.info()"
   ]
  },
  {
   "cell_type": "code",
   "execution_count": 161,
   "id": "a817f9c9-b53a-4638-94c4-f7a5e58834eb",
   "metadata": {},
   "outputs": [],
   "source": [
    "#We can see in the above table that the TotalCharges variable is having different data type\n",
    "#Even though it stores float value"
   ]
  },
  {
   "cell_type": "code",
   "execution_count": 162,
   "id": "7c027641-d22d-4b60-a22e-0bc57395379d",
   "metadata": {},
   "outputs": [
    {
     "name": "stdout",
     "output_type": "stream",
     "text": [
      "Blank entries in TotalCharges: 11\n"
     ]
    }
   ],
   "source": [
    "# Now we will convert Totalcharges variable from object to float\n",
    "\n",
    "# 1. Check for blank strings in TotalCharges\n",
    "blank_count = Churn['TotalCharges'].apply(lambda x: x.strip() == \"\").sum()\n",
    "print(\"Blank entries in TotalCharges:\", blank_count)"
   ]
  },
  {
   "cell_type": "code",
   "execution_count": 163,
   "id": "0e861012-a07d-422b-95a4-f89dcd0d0222",
   "metadata": {},
   "outputs": [],
   "source": [
    "# 2. Convert TotalCharges to numeric\n",
    "Churn['TotalCharges'] = pd.to_numeric(Churn['TotalCharges'], errors='coerce')"
   ]
  },
  {
   "cell_type": "code",
   "execution_count": 164,
   "id": "2d85fd2f-4c7c-4b0a-ba9c-015da787ef56",
   "metadata": {},
   "outputs": [],
   "source": [
    "# Let's have a look at the SeniorCitizen variable\n",
    "# We can see the variable has having value of 1/0\n",
    "# 1: Customer is a senior citizen\n",
    "# 0: Customer is a non-senior citizen\n",
    "# But in your real-world business context, this binary numeric value is often more readable if converted to 'Yes'/'No', especially for:\n",
    "# Data visualization\n",
    "# Reports or dashboards\n",
    "# Better interpretability during EDA"
   ]
  },
  {
   "cell_type": "markdown",
   "id": "d1e47c87-83e1-4f7a-b9f3-f5e382d9ae34",
   "metadata": {},
   "source": [
    "#### ✅ Why We Convert 0/1 → Yes/No:\n",
    "- Improved readability in plots and summaries\n",
    "  (sns.countplot(data=df, x='SeniorCitizen') looks better with 'Yes'/'No')\n",
    "- Consistency with other binary features (Partner, Dependents, etc. use 'Yes'/'No')\n",
    "- Easier to group or filter in reports or Tableau"
   ]
  },
  {
   "cell_type": "code",
   "execution_count": 165,
   "id": "382100b1-d117-4053-a038-aec4a676a49c",
   "metadata": {},
   "outputs": [],
   "source": [
    "#Conversion\n",
    "Churn['SeniorCitizen'] = Churn['SeniorCitizen'].map({0: 'No', 1: 'Yes'})"
   ]
  },
  {
   "cell_type": "markdown",
   "id": "084fa285-c597-4c3c-bd2a-25f95718039f",
   "metadata": {},
   "source": [
    "### Attributes and Their Description\n",
    "- customerID: Unique identifier for each customer.\n",
    "- Gender: \tGender of the customer (Male/Female).\n",
    "- SeniorCitizen\tindicates if the customer is a senior citizen (1 = Yes, 0 = No).\n",
    "- Partner: Whether the customer has a partner (Yes/No).\n",
    "- Dep: endents\tWhether the customer has dependents (Yes/No).\n",
    "- tenure: Number of months the customer has stayed with the company.\n",
    "- PhoneService: Whether the customer has phone service (Yes/No).\n",
    "- MultipleLines\tindicates if the customer has multiple lines (Yes/No/No phone service).\n",
    "- InternetService\tType of internet service (DSL/Fiber optic/No).\n",
    "- OnlineSecurity: Whether online security is included (Yes/No/No internet service).\n",
    "- OnlineBackup: Whether online backup is included (Yes/No/No internet service).\n",
    "- DeviceProtection: Whether device protection is included (Yes/No/No internet service).\n",
    "- TechSupport: Whether tech support is included (Yes/No/No internet service).\n",
    "- StreamingTV: Whether the customer streams TV (Yes/No/No internet service).\n",
    "- StreamingMovies: Whether the customer streams movies (Yes/No/No internet service).\n",
    "- Contract\tType of contract (Month-to-month, One year, Two years).\n",
    "- PaperlessBilling: Whether billing is paperless (Yes/No).\n",
    "- PaymentMethod\tMethod of payment (Electronic check, Mailed check, etc.).\n",
    "- MonthlyCharges: Monthly amount charged to the customer.\n",
    "- TotalCharges: Total amount charged to the customer.\n",
    "- Churn: Whether the customer has churned (Yes/No)."
   ]
  },
  {
   "cell_type": "markdown",
   "id": "1b67c3df-bc89-4b26-adc6-192e654f3e65",
   "metadata": {},
   "source": [
    "### Variables by Data Type"
   ]
  },
  {
   "cell_type": "markdown",
   "id": "bad0f405-bbb8-457f-99b7-5a881d1736be",
   "metadata": {
    "jp-MarkdownHeadingCollapsed": true
   },
   "source": [
    "Categorical (Nominal)\n",
    "These are non-numeric variables with discrete categories:\n",
    "- gender\n",
    "- Partner\n",
    "- Dependents\n",
    "- PhoneService\n",
    "- MultipleLines\n",
    "- InternetService\n",
    "- OnlineSecurity\n",
    "- OnlineBackup\n",
    "- DeviceProtection\n",
    "- TechSupport\n",
    "- StreamingTV\n",
    "- StreamingMovies\n",
    "- Contract\n",
    "- PaperlessBilling\n",
    "- PaymentMethod\n",
    "- Churn\n",
    "- SeniorCitizen ✅ (converted from 0/1 to 'Yes'/'No')"
   ]
  },
  {
   "cell_type": "markdown",
   "id": "d2f6584f-55d0-4f63-b0d9-3965ced2f618",
   "metadata": {},
   "source": [
    "---\n",
    "🔹 Numeric (Continuous)\n",
    "These are continuous numeric variables:\n",
    "- tenure (months with the company)\n",
    "- MonthlyCharges\n",
    "- TotalCharges ✅ (converted from object to float)"
   ]
  },
  {
   "cell_type": "markdown",
   "id": "3fd28276-1593-4741-bced-3dad534de118",
   "metadata": {},
   "source": [
    "---\n",
    "🔹 Identifier (Drop-in modeling)\n",
    "- customerID\n"
   ]
  },
  {
   "cell_type": "code",
   "execution_count": 166,
   "id": "5c586cdc-8edf-4933-8327-a1e23c3750d4",
   "metadata": {},
   "outputs": [
    {
     "data": {
      "text/html": [
       "<div>\n",
       "<style scoped>\n",
       "    .dataframe tbody tr th:only-of-type {\n",
       "        vertical-align: middle;\n",
       "    }\n",
       "\n",
       "    .dataframe tbody tr th {\n",
       "        vertical-align: top;\n",
       "    }\n",
       "\n",
       "    .dataframe thead th {\n",
       "        text-align: right;\n",
       "    }\n",
       "</style>\n",
       "<table border=\"1\" class=\"dataframe\">\n",
       "  <thead>\n",
       "    <tr style=\"text-align: right;\">\n",
       "      <th></th>\n",
       "      <th>customerID</th>\n",
       "      <th>gender</th>\n",
       "      <th>SeniorCitizen</th>\n",
       "      <th>Partner</th>\n",
       "      <th>Dependents</th>\n",
       "      <th>tenure</th>\n",
       "      <th>PhoneService</th>\n",
       "      <th>MultipleLines</th>\n",
       "      <th>InternetService</th>\n",
       "      <th>OnlineSecurity</th>\n",
       "      <th>...</th>\n",
       "      <th>DeviceProtection</th>\n",
       "      <th>TechSupport</th>\n",
       "      <th>StreamingTV</th>\n",
       "      <th>StreamingMovies</th>\n",
       "      <th>Contract</th>\n",
       "      <th>PaperlessBilling</th>\n",
       "      <th>PaymentMethod</th>\n",
       "      <th>MonthlyCharges</th>\n",
       "      <th>TotalCharges</th>\n",
       "      <th>Churn</th>\n",
       "    </tr>\n",
       "  </thead>\n",
       "  <tbody>\n",
       "    <tr>\n",
       "      <th>count</th>\n",
       "      <td>7043</td>\n",
       "      <td>7043</td>\n",
       "      <td>7043</td>\n",
       "      <td>7043</td>\n",
       "      <td>7043</td>\n",
       "      <td>7043.000000</td>\n",
       "      <td>7043</td>\n",
       "      <td>7043</td>\n",
       "      <td>7043</td>\n",
       "      <td>7043</td>\n",
       "      <td>...</td>\n",
       "      <td>7043</td>\n",
       "      <td>7043</td>\n",
       "      <td>7043</td>\n",
       "      <td>7043</td>\n",
       "      <td>7043</td>\n",
       "      <td>7043</td>\n",
       "      <td>7043</td>\n",
       "      <td>7043.000000</td>\n",
       "      <td>7032.000000</td>\n",
       "      <td>7043</td>\n",
       "    </tr>\n",
       "    <tr>\n",
       "      <th>unique</th>\n",
       "      <td>7043</td>\n",
       "      <td>2</td>\n",
       "      <td>2</td>\n",
       "      <td>2</td>\n",
       "      <td>2</td>\n",
       "      <td>NaN</td>\n",
       "      <td>2</td>\n",
       "      <td>3</td>\n",
       "      <td>3</td>\n",
       "      <td>3</td>\n",
       "      <td>...</td>\n",
       "      <td>3</td>\n",
       "      <td>3</td>\n",
       "      <td>3</td>\n",
       "      <td>3</td>\n",
       "      <td>3</td>\n",
       "      <td>2</td>\n",
       "      <td>4</td>\n",
       "      <td>NaN</td>\n",
       "      <td>NaN</td>\n",
       "      <td>2</td>\n",
       "    </tr>\n",
       "    <tr>\n",
       "      <th>top</th>\n",
       "      <td>7590-VHVEG</td>\n",
       "      <td>Male</td>\n",
       "      <td>No</td>\n",
       "      <td>No</td>\n",
       "      <td>No</td>\n",
       "      <td>NaN</td>\n",
       "      <td>Yes</td>\n",
       "      <td>No</td>\n",
       "      <td>Fiber optic</td>\n",
       "      <td>No</td>\n",
       "      <td>...</td>\n",
       "      <td>No</td>\n",
       "      <td>No</td>\n",
       "      <td>No</td>\n",
       "      <td>No</td>\n",
       "      <td>Month-to-month</td>\n",
       "      <td>Yes</td>\n",
       "      <td>Electronic check</td>\n",
       "      <td>NaN</td>\n",
       "      <td>NaN</td>\n",
       "      <td>No</td>\n",
       "    </tr>\n",
       "    <tr>\n",
       "      <th>freq</th>\n",
       "      <td>1</td>\n",
       "      <td>3555</td>\n",
       "      <td>5901</td>\n",
       "      <td>3641</td>\n",
       "      <td>4933</td>\n",
       "      <td>NaN</td>\n",
       "      <td>6361</td>\n",
       "      <td>3390</td>\n",
       "      <td>3096</td>\n",
       "      <td>3498</td>\n",
       "      <td>...</td>\n",
       "      <td>3095</td>\n",
       "      <td>3473</td>\n",
       "      <td>2810</td>\n",
       "      <td>2785</td>\n",
       "      <td>3875</td>\n",
       "      <td>4171</td>\n",
       "      <td>2365</td>\n",
       "      <td>NaN</td>\n",
       "      <td>NaN</td>\n",
       "      <td>5174</td>\n",
       "    </tr>\n",
       "    <tr>\n",
       "      <th>mean</th>\n",
       "      <td>NaN</td>\n",
       "      <td>NaN</td>\n",
       "      <td>NaN</td>\n",
       "      <td>NaN</td>\n",
       "      <td>NaN</td>\n",
       "      <td>32.371149</td>\n",
       "      <td>NaN</td>\n",
       "      <td>NaN</td>\n",
       "      <td>NaN</td>\n",
       "      <td>NaN</td>\n",
       "      <td>...</td>\n",
       "      <td>NaN</td>\n",
       "      <td>NaN</td>\n",
       "      <td>NaN</td>\n",
       "      <td>NaN</td>\n",
       "      <td>NaN</td>\n",
       "      <td>NaN</td>\n",
       "      <td>NaN</td>\n",
       "      <td>64.761692</td>\n",
       "      <td>2283.300441</td>\n",
       "      <td>NaN</td>\n",
       "    </tr>\n",
       "    <tr>\n",
       "      <th>std</th>\n",
       "      <td>NaN</td>\n",
       "      <td>NaN</td>\n",
       "      <td>NaN</td>\n",
       "      <td>NaN</td>\n",
       "      <td>NaN</td>\n",
       "      <td>24.559481</td>\n",
       "      <td>NaN</td>\n",
       "      <td>NaN</td>\n",
       "      <td>NaN</td>\n",
       "      <td>NaN</td>\n",
       "      <td>...</td>\n",
       "      <td>NaN</td>\n",
       "      <td>NaN</td>\n",
       "      <td>NaN</td>\n",
       "      <td>NaN</td>\n",
       "      <td>NaN</td>\n",
       "      <td>NaN</td>\n",
       "      <td>NaN</td>\n",
       "      <td>30.090047</td>\n",
       "      <td>2266.771362</td>\n",
       "      <td>NaN</td>\n",
       "    </tr>\n",
       "    <tr>\n",
       "      <th>min</th>\n",
       "      <td>NaN</td>\n",
       "      <td>NaN</td>\n",
       "      <td>NaN</td>\n",
       "      <td>NaN</td>\n",
       "      <td>NaN</td>\n",
       "      <td>0.000000</td>\n",
       "      <td>NaN</td>\n",
       "      <td>NaN</td>\n",
       "      <td>NaN</td>\n",
       "      <td>NaN</td>\n",
       "      <td>...</td>\n",
       "      <td>NaN</td>\n",
       "      <td>NaN</td>\n",
       "      <td>NaN</td>\n",
       "      <td>NaN</td>\n",
       "      <td>NaN</td>\n",
       "      <td>NaN</td>\n",
       "      <td>NaN</td>\n",
       "      <td>18.250000</td>\n",
       "      <td>18.800000</td>\n",
       "      <td>NaN</td>\n",
       "    </tr>\n",
       "    <tr>\n",
       "      <th>25%</th>\n",
       "      <td>NaN</td>\n",
       "      <td>NaN</td>\n",
       "      <td>NaN</td>\n",
       "      <td>NaN</td>\n",
       "      <td>NaN</td>\n",
       "      <td>9.000000</td>\n",
       "      <td>NaN</td>\n",
       "      <td>NaN</td>\n",
       "      <td>NaN</td>\n",
       "      <td>NaN</td>\n",
       "      <td>...</td>\n",
       "      <td>NaN</td>\n",
       "      <td>NaN</td>\n",
       "      <td>NaN</td>\n",
       "      <td>NaN</td>\n",
       "      <td>NaN</td>\n",
       "      <td>NaN</td>\n",
       "      <td>NaN</td>\n",
       "      <td>35.500000</td>\n",
       "      <td>401.450000</td>\n",
       "      <td>NaN</td>\n",
       "    </tr>\n",
       "    <tr>\n",
       "      <th>50%</th>\n",
       "      <td>NaN</td>\n",
       "      <td>NaN</td>\n",
       "      <td>NaN</td>\n",
       "      <td>NaN</td>\n",
       "      <td>NaN</td>\n",
       "      <td>29.000000</td>\n",
       "      <td>NaN</td>\n",
       "      <td>NaN</td>\n",
       "      <td>NaN</td>\n",
       "      <td>NaN</td>\n",
       "      <td>...</td>\n",
       "      <td>NaN</td>\n",
       "      <td>NaN</td>\n",
       "      <td>NaN</td>\n",
       "      <td>NaN</td>\n",
       "      <td>NaN</td>\n",
       "      <td>NaN</td>\n",
       "      <td>NaN</td>\n",
       "      <td>70.350000</td>\n",
       "      <td>1397.475000</td>\n",
       "      <td>NaN</td>\n",
       "    </tr>\n",
       "    <tr>\n",
       "      <th>75%</th>\n",
       "      <td>NaN</td>\n",
       "      <td>NaN</td>\n",
       "      <td>NaN</td>\n",
       "      <td>NaN</td>\n",
       "      <td>NaN</td>\n",
       "      <td>55.000000</td>\n",
       "      <td>NaN</td>\n",
       "      <td>NaN</td>\n",
       "      <td>NaN</td>\n",
       "      <td>NaN</td>\n",
       "      <td>...</td>\n",
       "      <td>NaN</td>\n",
       "      <td>NaN</td>\n",
       "      <td>NaN</td>\n",
       "      <td>NaN</td>\n",
       "      <td>NaN</td>\n",
       "      <td>NaN</td>\n",
       "      <td>NaN</td>\n",
       "      <td>89.850000</td>\n",
       "      <td>3794.737500</td>\n",
       "      <td>NaN</td>\n",
       "    </tr>\n",
       "    <tr>\n",
       "      <th>max</th>\n",
       "      <td>NaN</td>\n",
       "      <td>NaN</td>\n",
       "      <td>NaN</td>\n",
       "      <td>NaN</td>\n",
       "      <td>NaN</td>\n",
       "      <td>72.000000</td>\n",
       "      <td>NaN</td>\n",
       "      <td>NaN</td>\n",
       "      <td>NaN</td>\n",
       "      <td>NaN</td>\n",
       "      <td>...</td>\n",
       "      <td>NaN</td>\n",
       "      <td>NaN</td>\n",
       "      <td>NaN</td>\n",
       "      <td>NaN</td>\n",
       "      <td>NaN</td>\n",
       "      <td>NaN</td>\n",
       "      <td>NaN</td>\n",
       "      <td>118.750000</td>\n",
       "      <td>8684.800000</td>\n",
       "      <td>NaN</td>\n",
       "    </tr>\n",
       "  </tbody>\n",
       "</table>\n",
       "<p>11 rows × 21 columns</p>\n",
       "</div>"
      ],
      "text/plain": [
       "        customerID gender SeniorCitizen Partner Dependents       tenure  \\\n",
       "count         7043   7043          7043    7043       7043  7043.000000   \n",
       "unique        7043      2             2       2          2          NaN   \n",
       "top     7590-VHVEG   Male            No      No         No          NaN   \n",
       "freq             1   3555          5901    3641       4933          NaN   \n",
       "mean           NaN    NaN           NaN     NaN        NaN    32.371149   \n",
       "std            NaN    NaN           NaN     NaN        NaN    24.559481   \n",
       "min            NaN    NaN           NaN     NaN        NaN     0.000000   \n",
       "25%            NaN    NaN           NaN     NaN        NaN     9.000000   \n",
       "50%            NaN    NaN           NaN     NaN        NaN    29.000000   \n",
       "75%            NaN    NaN           NaN     NaN        NaN    55.000000   \n",
       "max            NaN    NaN           NaN     NaN        NaN    72.000000   \n",
       "\n",
       "       PhoneService MultipleLines InternetService OnlineSecurity  ...  \\\n",
       "count          7043          7043            7043           7043  ...   \n",
       "unique            2             3               3              3  ...   \n",
       "top             Yes            No     Fiber optic             No  ...   \n",
       "freq           6361          3390            3096           3498  ...   \n",
       "mean            NaN           NaN             NaN            NaN  ...   \n",
       "std             NaN           NaN             NaN            NaN  ...   \n",
       "min             NaN           NaN             NaN            NaN  ...   \n",
       "25%             NaN           NaN             NaN            NaN  ...   \n",
       "50%             NaN           NaN             NaN            NaN  ...   \n",
       "75%             NaN           NaN             NaN            NaN  ...   \n",
       "max             NaN           NaN             NaN            NaN  ...   \n",
       "\n",
       "       DeviceProtection TechSupport StreamingTV StreamingMovies  \\\n",
       "count              7043        7043        7043            7043   \n",
       "unique                3           3           3               3   \n",
       "top                  No          No          No              No   \n",
       "freq               3095        3473        2810            2785   \n",
       "mean                NaN         NaN         NaN             NaN   \n",
       "std                 NaN         NaN         NaN             NaN   \n",
       "min                 NaN         NaN         NaN             NaN   \n",
       "25%                 NaN         NaN         NaN             NaN   \n",
       "50%                 NaN         NaN         NaN             NaN   \n",
       "75%                 NaN         NaN         NaN             NaN   \n",
       "max                 NaN         NaN         NaN             NaN   \n",
       "\n",
       "              Contract PaperlessBilling     PaymentMethod MonthlyCharges  \\\n",
       "count             7043             7043              7043    7043.000000   \n",
       "unique               3                2                 4            NaN   \n",
       "top     Month-to-month              Yes  Electronic check            NaN   \n",
       "freq              3875             4171              2365            NaN   \n",
       "mean               NaN              NaN               NaN      64.761692   \n",
       "std                NaN              NaN               NaN      30.090047   \n",
       "min                NaN              NaN               NaN      18.250000   \n",
       "25%                NaN              NaN               NaN      35.500000   \n",
       "50%                NaN              NaN               NaN      70.350000   \n",
       "75%                NaN              NaN               NaN      89.850000   \n",
       "max                NaN              NaN               NaN     118.750000   \n",
       "\n",
       "        TotalCharges  Churn  \n",
       "count    7032.000000   7043  \n",
       "unique           NaN      2  \n",
       "top              NaN     No  \n",
       "freq             NaN   5174  \n",
       "mean     2283.300441    NaN  \n",
       "std      2266.771362    NaN  \n",
       "min        18.800000    NaN  \n",
       "25%       401.450000    NaN  \n",
       "50%      1397.475000    NaN  \n",
       "75%      3794.737500    NaN  \n",
       "max      8684.800000    NaN  \n",
       "\n",
       "[11 rows x 21 columns]"
      ]
     },
     "execution_count": 166,
     "metadata": {},
     "output_type": "execute_result"
    }
   ],
   "source": [
    "#Summary Statistics\n",
    "Churn.describe(include='all')"
   ]
  },
  {
   "cell_type": "markdown",
   "id": "12ecce60-423e-4c63-b71d-09e6d8d2ddd9",
   "metadata": {},
   "source": [
    "### Lets check for missing values"
   ]
  },
  {
   "cell_type": "code",
   "execution_count": 167,
   "id": "0b5714cc-96d1-4db3-87ef-12dbee8e5c55",
   "metadata": {},
   "outputs": [
    {
     "data": {
      "text/plain": [
       "customerID           0\n",
       "gender               0\n",
       "SeniorCitizen        0\n",
       "Partner              0\n",
       "Dependents           0\n",
       "tenure               0\n",
       "PhoneService         0\n",
       "MultipleLines        0\n",
       "InternetService      0\n",
       "OnlineSecurity       0\n",
       "OnlineBackup         0\n",
       "DeviceProtection     0\n",
       "TechSupport          0\n",
       "StreamingTV          0\n",
       "StreamingMovies      0\n",
       "Contract             0\n",
       "PaperlessBilling     0\n",
       "PaymentMethod        0\n",
       "MonthlyCharges       0\n",
       "TotalCharges        11\n",
       "Churn                0\n",
       "dtype: int64"
      ]
     },
     "execution_count": 167,
     "metadata": {},
     "output_type": "execute_result"
    }
   ],
   "source": [
    "#count missing values per column\n",
    "Churn.isnull().sum()"
   ]
  },
  {
   "cell_type": "markdown",
   "id": "c18510c0-1c6e-4f7c-ac99-2057e93cc681",
   "metadata": {},
   "source": [
    "🔹Above, we can see, there is only one variable having a null value, that is TotalCharges\n",
    "\n",
    "🔹As you can see, there are only 11 rows where the TotalCharges variable is null\n",
    "\n",
    "🔹We will drop those 11 rows from table"
   ]
  },
  {
   "cell_type": "code",
   "execution_count": 168,
   "id": "46aa320a-ae1f-4a0b-a934-c9cea24ea6e9",
   "metadata": {},
   "outputs": [],
   "source": [
    "# Drop rows with missing TotalCharges\n",
    "Churn = Churn.dropna(subset=['TotalCharges'])"
   ]
  },
  {
   "cell_type": "markdown",
   "id": "d73d4867-d186-4007-83ef-e30e63096d86",
   "metadata": {},
   "source": [
    "### Duplicate Check"
   ]
  },
  {
   "cell_type": "markdown",
   "id": "4391acd9-41ab-4fb1-9205-429757f7cd0b",
   "metadata": {},
   "source": [
    "Objective: Ensure there are no unintended duplicate records that could skew analysis or model training."
   ]
  },
  {
   "cell_type": "code",
   "execution_count": 169,
   "id": "d1841414-9ae1-4969-b18e-eac3b47b0af6",
   "metadata": {},
   "outputs": [
    {
     "name": "stdout",
     "output_type": "stream",
     "text": [
      "Duplicate rows: 0\n"
     ]
    }
   ],
   "source": [
    "#Check for completely duplicated rows\n",
    "duplicate_rows = Churn.duplicated().sum()\n",
    "print(f\"Duplicate rows: {duplicate_rows}\")"
   ]
  },
  {
   "cell_type": "code",
   "execution_count": 170,
   "id": "6ce9b45a-300a-4d7e-a034-bc30b8577423",
   "metadata": {},
   "outputs": [
    {
     "name": "stdout",
     "output_type": "stream",
     "text": [
      "Duplicate customer IDs: 0\n"
     ]
    }
   ],
   "source": [
    "# Check for duplicate customer IDs (should be unique)\n",
    "duplicate_ids = Churn['customerID'].duplicated().sum()\n",
    "print(f\"Duplicate customer IDs: {duplicate_ids}\")"
   ]
  },
  {
   "cell_type": "markdown",
   "id": "4abc9ba5-74ef-45bf-a274-05191f52bb76",
   "metadata": {},
   "source": [
    "From above obsevation we can say their are no duplicate rows and customer id present in dataset"
   ]
  },
  {
   "cell_type": "markdown",
   "id": "c9d4f5e3-b941-4f38-90d6-4aea4c50005d",
   "metadata": {},
   "source": [
    "##### It's time to drop irrelevant columns \n",
    "\n",
    "##### Such as Customer ID\n",
    "\n",
    "##### Customer ID is a unique value for all customers\n",
    "\n",
    "✅ Why are we dropping the Customer ID\n",
    "customerID is typically dropped before modeling because:\n",
    "\n",
    "- It’s unique for every row (high cardinality).\n",
    "\n",
    "- It doesn’t provide predictive value.\n",
    "\n",
    "- Algorithms might overfit if they remain (especially tree-based models)."
   ]
  },
  {
   "cell_type": "code",
   "execution_count": 171,
   "id": "e85a586b-0c99-40af-be75-fbbc9d52a8ac",
   "metadata": {},
   "outputs": [],
   "source": [
    "# Dropping Customer ID\n",
    "Churn.drop('customerID', axis=1, inplace=True)"
   ]
  },
  {
   "cell_type": "code",
   "execution_count": 172,
   "id": "41cb135e-2b23-471d-9c31-8d483823dd1d",
   "metadata": {},
   "outputs": [
    {
     "data": {
      "image/png": "[encoded data removed]",
      "text/plain": [
       "<Figure size 800x500 with 1 Axes>"
      ]
     },
     "metadata": {},
     "output_type": "display_data"
    }
   ],
   "source": [
    "# Example: visualize removed rows due to missing or invalid values\n",
    "# Plot the number of rows fixed\n",
    "issues = [\n",
    "    'Blank TotalCharges',\n",
    "    'Categorical Columns Encoded',\n",
    "    'SeniorCitizen Converted',\n",
    "    'Duplicates Checked'\n",
    "]\n",
    "counts = [11, 16, 1, 0]\n",
    "\n",
    "colors = ['orange', 'steelblue', 'green', 'gray']\n",
    "\n",
    "# Plot\n",
    "plt.figure(figsize=(8, 5))\n",
    "bars = plt.bar(issues, counts, color=colors)\n",
    "\n",
    "# Add labels on bars\n",
    "for bar in bars:\n",
    "    yval = bar.get_height()\n",
    "    plt.text(bar.get_x() + bar.get_width()/2, yval + 0.3, int(yval), ha='center', fontsize=10)\n",
    "\n",
    "plt.title('Data Cleaning Summary: Issues Fixed During Preprocessing')\n",
    "plt.ylabel('Number of Fixes')\n",
    "plt.xticks(rotation=20)\n",
    "plt.tight_layout()\n",
    "plt.savefig('images/data_cleaning_impact.png')\n",
    "plt.show()"
   ]
  },
  {
   "cell_type": "code",
   "execution_count": 173,
   "id": "8145fd6f-6b4e-4ee1-9722-3dc1559885a6",
   "metadata": {},
   "outputs": [],
   "source": [
    "# Now we can say our data is clean,\n",
    "# There are no missing values\n",
    "# There are no duplicates\n",
    "# Now we shall proceed with Step 3: Data Visualization"
   ]
  },
  {
   "cell_type": "markdown",
   "id": "93e0e7d6-46bf-46d3-aed5-da3560e52afc",
   "metadata": {
    "jp-MarkdownHeadingCollapsed": true
   },
   "source": [
    "## 📌 Step 3: Data Visualization"
   ]
  },
  {
   "cell_type": "markdown",
   "id": "aa75fe4a-58c6-4315-9f9a-9e87db0cab2b",
   "metadata": {},
   "source": [
    "**Objective: Explore patterns and relationships between key features and customer churn to generate hypotheses and insights that could guide modeling.**"
   ]
  },
  {
   "cell_type": "markdown",
   "id": "21ac28af-e8fa-4b52-a97a-6b0378e6d668",
   "metadata": {},
   "source": [
    " A consistent color scheme is used throughout:\n",
    "\n",
    "🔵 Churned (Yes)\n",
    "\n",
    "🔴 Stayed (No)"
   ]
  },
  {
   "cell_type": "code",
   "execution_count": 174,
   "id": "1d74fa28-7b2b-4331-b849-2aef2d9c7645",
   "metadata": {},
   "outputs": [],
   "source": [
    "# Define a custom color palette\n",
    "churn_palette = {'Yes': 'blue', 'No': 'red'}"
   ]
  },
  {
   "cell_type": "markdown",
   "id": "986ec77f-ebbb-4457-b835-0328e5eaec3a",
   "metadata": {},
   "source": [
    "### Churn Distribution"
   ]
  },
  {
   "cell_type": "code",
   "execution_count": 175,
   "id": "fbd4d1a0-c594-4865-91bb-1952f72af1d0",
   "metadata": {},
   "outputs": [
    {
     "data": {
      "image/png": "[encoded data removed]",
      "text/plain": [
       "<Figure size 640x480 with 1 Axes>"
      ]
     },
     "metadata": {},
     "output_type": "display_data"
    }
   ],
   "source": [
    "# Plot Churn Counts\n",
    "# To understand the proportion of customers who churned vs. those who stayed.\n",
    "sns.countplot(data=Churn, x='Churn', hue='Churn',palette=churn_palette, legend=False)\n",
    "plt.title('Churn Distribution')\n",
    "plt.legend(title='Churn', labels=['No', 'Yes'])\n",
    "plt.show()"
   ]
  },
  {
   "cell_type": "markdown",
   "id": "74ceda1b-9611-4dec-832d-1fb68e450e66",
   "metadata": {},
   "source": [
    "**This dataset is moderately imbalanced — more customers stayed than left. Class imbalance needs to be considered during model training (e.g., via SMOTE, class weighting).**"
   ]
  },
  {
   "cell_type": "markdown",
   "id": "2e9d6d3e-b32e-4c56-9bab-413105bcb2fe",
   "metadata": {},
   "source": [
    "### Churn by Contract Type"
   ]
  },
  {
   "cell_type": "code",
   "execution_count": 176,
   "id": "cbf341ae-bb93-413a-aedc-8d2383f2aae7",
   "metadata": {},
   "outputs": [
    {
     "data": {
      "image/png": "[encoded data removed]",
      "text/plain": [
       "<Figure size 640x480 with 1 Axes>"
      ]
     },
     "metadata": {},
     "output_type": "display_data"
    }
   ],
   "source": [
    "# To assess if certain contract types correlate with higher churn risk.\n",
    "sns.countplot(data=Churn, x='Contract', hue='Churn', palette=churn_palette)\n",
    "plt.title('Churn Rate by Contract Type')\n",
    "plt.xticks(rotation=0)\n",
    "plt.show()"
   ]
  },
  {
   "cell_type": "markdown",
   "id": "7f97b293-d92a-4dda-a73d-e858bb13baf2",
   "metadata": {},
   "source": [
    "**Customers on month-to-month contracts churn significantly more than those with 1- or 2-year commitments. This is a key business insight for retention strategy.**"
   ]
  },
  {
   "cell_type": "markdown",
   "id": "86365a04-a90a-4049-ab20-0bc9ad04dad1",
   "metadata": {},
   "source": [
    "### Monthly charges VS. Churn(Box plot with Custom Legend)"
   ]
  },
  {
   "cell_type": "code",
   "execution_count": 177,
   "id": "c0c062a0-14d7-4409-ac9e-bc2f05f963ea",
   "metadata": {},
   "outputs": [
    {
     "data": {
      "image/png": "[encoded data removed]",
      "text/plain": [
       "<Figure size 640x480 with 1 Axes>"
      ]
     },
     "metadata": {},
     "output_type": "display_data"
    }
   ],
   "source": [
    "# To see whether high charges are pushing customers to churn.\n",
    "sns.boxplot(data=Churn, x='Churn', y='MonthlyCharges', hue='Churn', palette=churn_palette, legend=False)\n",
    "plt.title('Monthly Charges vs. Churn')\n",
    "# Manual legend\n",
    "patches = [\n",
    "    mpatches.Patch(color='red', label='No'),\n",
    "    mpatches.Patch(color='blue', label='Yes')\n",
    "]\n",
    "plt.legend(handles=patches, title='Churn', loc='upper right')\n",
    "plt.show()"
   ]
  },
  {
   "cell_type": "markdown",
   "id": "6e16f0ca-1486-4178-8c50-21503b72231f",
   "metadata": {},
   "source": [
    "**Churned customers tend to have slightly higher monthly charges, suggesting price sensitivity could be a churn factor.**"
   ]
  },
  {
   "cell_type": "markdown",
   "id": "91eef3c1-0093-467d-ab08-c37877bd7f30",
   "metadata": {},
   "source": [
    "### Tenure VS. Churn (Histogram)"
   ]
  },
  {
   "cell_type": "code",
   "execution_count": 178,
   "id": "bc57b488-5a6c-4ed3-8de4-653375a7ec46",
   "metadata": {},
   "outputs": [
    {
     "data": {
      "image/png": "[encoded data removed]",
      "text/plain": [
       "<Figure size 640x480 with 1 Axes>"
      ]
     },
     "metadata": {},
     "output_type": "display_data"
    }
   ],
   "source": [
    "# To analyze how long customers stay before they churn.\n",
    "sns.histplot(data=Churn, x='tenure', hue='Churn', bins=30, kde=True, palette=churn_palette)\n",
    "plt.title('Customer Tenure vs. Churn')\n",
    "plt.show()"
   ]
  },
  {
   "cell_type": "markdown",
   "id": "d126fa4d-3e72-4fd9-a2eb-1bebde9e22db",
   "metadata": {},
   "source": [
    "**Most churn happens in the early months of tenure, indicating that early onboarding or engagement may help reduce churn.**"
   ]
  },
  {
   "cell_type": "markdown",
   "id": "be5727ee-b90a-42de-8d90-1dab64999096",
   "metadata": {},
   "source": [
    "### Churn by Internet Service"
   ]
  },
  {
   "cell_type": "code",
   "execution_count": 179,
   "id": "93b8d093-bfb0-4c79-bae7-1a6c232326fd",
   "metadata": {},
   "outputs": [
    {
     "data": {
      "image/png": "[encoded data removed]",
      "text/plain": [
       "<Figure size 640x480 with 1 Axes>"
      ]
     },
     "metadata": {},
     "output_type": "display_data"
    }
   ],
   "source": [
    "# To explore if the type of internet service correlates with customer satisfaction.\n",
    "sns.countplot(data=Churn, x='InternetService', hue='Churn', palette=churn_palette)\n",
    "plt.title('Churn by Internet Service Type')\n",
    "plt.xticks(rotation=0)\n",
    "plt.legend(title='Churn')\n",
    "plt.show()"
   ]
  },
  {
   "cell_type": "markdown",
   "id": "58b531a0-630a-466d-b75f-531a46f276e1",
   "metadata": {},
   "source": [
    "**Customers using Fiber Optic service churn more than DSL or those without internet. This could point to dissatisfaction with service quality, outages, or price.**"
   ]
  },
  {
   "cell_type": "markdown",
   "id": "7f93e41d-4009-43ae-a4c9-5d5ee2448a2d",
   "metadata": {},
   "source": [
    "**These plots not only uncover valuable business insights, but also help you select important features and explain churn drivers to stakeholders.**"
   ]
  },
  {
   "cell_type": "markdown",
   "id": "df87b58f-c47f-46d9-9701-b8cde555cd1b",
   "metadata": {
    "jp-MarkdownHeadingCollapsed": true
   },
   "source": [
    "## 📌 Step 4: Feature Encoding & Modeling Preparation"
   ]
  },
  {
   "cell_type": "markdown",
   "id": "bcf2dd5c-f5cd-42da-ac76-0bac5b786abe",
   "metadata": {},
   "source": [
    "**Objective: Convert categorical variables into a numeric format suitable for machine learning models and prepare the final dataset for training and evaluation.**"
   ]
  },
  {
   "cell_type": "markdown",
   "id": "a6390b40-1452-4e07-9ade-b2bff6841216",
   "metadata": {},
   "source": [
    "### Identify Categorical Variables"
   ]
  },
  {
   "cell_type": "code",
   "execution_count": 180,
   "id": "07d52aad-941c-4cfa-a981-b7d82d557b12",
   "metadata": {},
   "outputs": [
    {
     "name": "stdout",
     "output_type": "stream",
     "text": [
      "Categorical columns to encode: ['gender', 'SeniorCitizen', 'Partner', 'Dependents', 'PhoneService', 'MultipleLines', 'InternetService', 'OnlineSecurity', 'OnlineBackup', 'DeviceProtection', 'TechSupport', 'StreamingTV', 'StreamingMovies', 'Contract', 'PaperlessBilling', 'PaymentMethod']\n"
     ]
    }
   ],
   "source": [
    "# Get all object-type columns\n",
    "categorical_cols = Churn.select_dtypes(include='object').columns.tolist()\n",
    "\n",
    "# Remove 'customerID' and 'Churn' from the list (we'll handle these separately)\n",
    "categorical_cols = [col for col in categorical_cols if col not in ['Churn', 'customerID']]\n",
    "\n",
    "print(\"Categorical columns to encode:\", categorical_cols)"
   ]
  },
  {
   "cell_type": "markdown",
   "id": "eb20ee1b-5e13-407f-9450-9e5eebb7e049",
   "metadata": {},
   "source": [
    "### Encode the Target Variable (Churn)"
   ]
  },
  {
   "cell_type": "code",
   "execution_count": 181,
   "id": "43b97af1-d495-4ffd-af78-377dc4458016",
   "metadata": {},
   "outputs": [
    {
     "name": "stdout",
     "output_type": "stream",
     "text": [
      "Unique values in Churn before cleaning: ['No' 'Yes']\n"
     ]
    }
   ],
   "source": [
    "# Let's check unique values in 'Churn' before encoding\n",
    "print(\"Unique values in Churn before cleaning:\", Churn['Churn'].unique())"
   ]
  },
  {
   "cell_type": "code",
   "execution_count": 182,
   "id": "46f64643-be18-4be0-b753-4253905074d1",
   "metadata": {},
   "outputs": [],
   "source": [
    "# Let's remove rows with unexpected or blank churn values (if any)\n",
    "Churn = Churn[Churn['Churn'].isin(['Yes', 'No'])]"
   ]
  },
  {
   "cell_type": "code",
   "execution_count": 183,
   "id": "4be3e081-536e-491e-b49f-994349ad6837",
   "metadata": {},
   "outputs": [],
   "source": [
    "# Encode target: 'Yes' → 1, 'No' → 0\n",
    "Churn['Churn'] = Churn['Churn'].map({'No': 0, 'Yes': 1})\n",
    "#Binary encoding prepares the Churn column as the target variable for classification."
   ]
  },
  {
   "cell_type": "code",
   "execution_count": 184,
   "id": "e86df794-f53f-4ff8-b1e9-686075e8d7fa",
   "metadata": {},
   "outputs": [
    {
     "name": "stdout",
     "output_type": "stream",
     "text": [
      "Missing values in Churn after encoding: 0\n"
     ]
    }
   ],
   "source": [
    "# 4. Confirm no NaNs remain\n",
    "print(\"Missing values in Churn after encoding:\", Churn['Churn'].isnull().sum())"
   ]
  },
  {
   "cell_type": "markdown",
   "id": "dca7408a-25ad-42a1-a192-e0ce8a27b9e5",
   "metadata": {},
   "source": [
    "### One-Hot Encode Categorical Features"
   ]
  },
  {
   "cell_type": "code",
   "execution_count": 185,
   "id": "ec58ec2c-1c15-45c0-b13d-0b7cb0ed3d0b",
   "metadata": {},
   "outputs": [
    {
     "name": "stdout",
     "output_type": "stream",
     "text": [
      "Shape after encoding: (7032, 31)\n"
     ]
    },
    {
     "data": {
      "text/plain": [
       "Index(['tenure', 'MonthlyCharges', 'TotalCharges', 'Churn', 'gender_Male',\n",
       "       'SeniorCitizen_Yes', 'Partner_Yes', 'Dependents_Yes',\n",
       "       'PhoneService_Yes', 'MultipleLines_No phone service',\n",
       "       'MultipleLines_Yes', 'InternetService_Fiber optic',\n",
       "       'InternetService_No', 'OnlineSecurity_No internet service',\n",
       "       'OnlineSecurity_Yes', 'OnlineBackup_No internet service',\n",
       "       'OnlineBackup_Yes', 'DeviceProtection_No internet service',\n",
       "       'DeviceProtection_Yes', 'TechSupport_No internet service',\n",
       "       'TechSupport_Yes', 'StreamingTV_No internet service', 'StreamingTV_Yes',\n",
       "       'StreamingMovies_No internet service', 'StreamingMovies_Yes',\n",
       "       'Contract_One year', 'Contract_Two year', 'PaperlessBilling_Yes',\n",
       "       'PaymentMethod_Credit card (automatic)',\n",
       "       'PaymentMethod_Electronic check', 'PaymentMethod_Mailed check'],\n",
       "      dtype='object')"
      ]
     },
     "execution_count": 185,
     "metadata": {},
     "output_type": "execute_result"
    }
   ],
   "source": [
    "# One-hot encode all remaining categorical variables\n",
    "Churn_encoded = pd.get_dummies(Churn, columns=categorical_cols, drop_first=True)\n",
    "\n",
    "# Optional: check final shape and feature names\n",
    "print(\"Shape after encoding:\", Churn_encoded.shape)\n",
    "Churn_encoded.columns\n",
    "#Why drop_first=True?\n",
    "#It avoids the dummy variable trap (perfect multicollinearity) by dropping one category from each feature."
   ]
  },
  {
   "cell_type": "markdown",
   "id": "861d9b2e-6fda-4296-bd29-ac857db392c5",
   "metadata": {},
   "source": [
    "### Define Feature Matrix and Target Variable"
   ]
  },
  {
   "cell_type": "code",
   "execution_count": 186,
   "id": "2b813f34-e2fc-4cb8-99de-68fde4294e68",
   "metadata": {},
   "outputs": [
    {
     "name": "stdout",
     "output_type": "stream",
     "text": [
      "Feature matrix shape: (7032, 30)\n",
      "Target vector shape: (7032,)\n"
     ]
    }
   ],
   "source": [
    "# Set up X (features) and y (target)\n",
    "X = Churn_encoded.drop(['Churn'], axis=1)\n",
    "y = Churn_encoded['Churn']\n",
    "\n",
    "print(\"Feature matrix shape:\", X.shape)\n",
    "print(\"Target vector shape:\", y.shape)\n",
    "\n",
    "#This isolates the independent variables (X) and the dependent variable (y) for model training."
   ]
  },
  {
   "cell_type": "markdown",
   "id": "bdf9c281-d859-4eb9-b120-1ab892ee1721",
   "metadata": {},
   "source": [
    "**✅ At this point, our data is:**\n",
    "\n",
    "**Cleaned**\n",
    "\n",
    "**Fully numeric**\n",
    "\n",
    "**Ready for modeling with algorithms like Logistic Regression, Random Forest, XGBoost, etc.**"
   ]
  },
  {
   "cell_type": "markdown",
   "id": "57a04a0e-9f87-494c-998a-5e6273ca0291",
   "metadata": {},
   "source": [
    "### ✅Summary of Feature Engineering Decisions"
   ]
  },
  {
   "cell_type": "markdown",
   "id": "7b4a2f56-7426-46df-b4d6-7e48af4dde52",
   "metadata": {},
   "source": [
    "**Feature Engineering Summary:**\n",
    "\n",
    "**Converted the target variable Churn from categorical (Yes/No) to binary (1/0).**\n",
    "\n",
    "**Applied one-hot encoding to 16 categorical variables, reducing them to N-1 binary columns each.**\n",
    "\n",
    "**Removed customerID, as it is a unique identifier with no predictive value.**\n",
    "\n",
    "**Final dataset includes only numerical features and is now ready for model training.**"
   ]
  },
  {
   "cell_type": "markdown",
   "id": "a8bf48b1-9c06-4a70-a228-0907f93d8468",
   "metadata": {},
   "source": [
    "**Final Output Shape Recap**"
   ]
  },
  {
   "cell_type": "code",
   "execution_count": 187,
   "id": "6fa9c3c2-91c1-4eca-bca2-e78a5963f9a7",
   "metadata": {},
   "outputs": [
    {
     "name": "stdout",
     "output_type": "stream",
     "text": [
      "Final shape of feature matrix: (7032, 30)\n",
      "Total number of features: 30\n"
     ]
    }
   ],
   "source": [
    "print(f\"Final shape of feature matrix: {X.shape}\")\n",
    "print(f\"Total number of features: {X.shape[1]}\")"
   ]
  },
  {
   "cell_type": "code",
   "execution_count": 188,
   "id": "f396db5d-c635-48bd-b11d-0c84e80ccf56",
   "metadata": {},
   "outputs": [
    {
     "name": "stdout",
     "output_type": "stream",
     "text": [
      "Churn Class Distribution:\n",
      "\n",
      "Churn\n",
      "0    5163\n",
      "1    1869\n",
      "Name: count, dtype: int64\n",
      "\n",
      "Churn Class Percentage:\n",
      "\n",
      "Churn\n",
      "0    73.42\n",
      "1    26.58\n",
      "Name: proportion, dtype: float64\n"
     ]
    }
   ],
   "source": [
    "# Let's check the count\n",
    "# Count churned and non-churned customers\n",
    "class_counts = Churn['Churn'].value_counts()\n",
    "class_percent = Churn['Churn'].value_counts(normalize=True) * 100\n",
    "\n",
    "# Display both counts and percentages\n",
    "print(\"Churn Class Distribution:\\n\")\n",
    "print(class_counts)\n",
    "print(\"\\nChurn Class Percentage:\\n\")\n",
    "print(class_percent.round(2))"
   ]
  },
  {
   "cell_type": "markdown",
   "id": "acfbb79a-40df-4320-a41c-870bb238dfeb",
   "metadata": {},
   "source": [
    "**✅ What This Tells You:**\n",
    "**The dataset is imbalanced: Only ~26% of customers churned.**"
   ]
  },
  {
   "cell_type": "markdown",
   "id": "b3c02528-9750-420d-9993-79ed8a18f06f",
   "metadata": {
    "jp-MarkdownHeadingCollapsed": true
   },
   "source": [
    "## 📌 Step 5: Model Building & Evaluation — Logistic Regression"
   ]
  },
  {
   "cell_type": "markdown",
   "id": "d19a09c8-f9a2-4adc-8b38-12e5f21eb784",
   "metadata": {},
   "source": [
    "**Objective: Train a classification model to predict churn and evaluate its performance using relevant metrics.**"
   ]
  },
  {
   "cell_type": "markdown",
   "id": "ec2d98a5-d573-4957-bc1a-43fcdb270b6c",
   "metadata": {
    "jp-MarkdownHeadingCollapsed": true
   },
   "source": [
    "### Train-Test Split"
   ]
  },
  {
   "cell_type": "code",
   "execution_count": 189,
   "id": "6b4a777e-4c6e-43d2-83fe-7baa4634a1b2",
   "metadata": {},
   "outputs": [
    {
     "name": "stdout",
     "output_type": "stream",
     "text": [
      "0\n"
     ]
    }
   ],
   "source": [
    "print(y.isnull().sum())"
   ]
  },
  {
   "cell_type": "code",
   "execution_count": 190,
   "id": "688be231-845d-4c34-a2e7-7423a70e7bc7",
   "metadata": {},
   "outputs": [
    {
     "data": {
      "text/plain": [
       "array([0, 1], dtype=int64)"
      ]
     },
     "execution_count": 190,
     "metadata": {},
     "output_type": "execute_result"
    }
   ],
   "source": [
    "Churn['Churn'].unique()"
   ]
  },
  {
   "cell_type": "code",
   "execution_count": 191,
   "id": "0687ae0a-fcae-4a9a-88f8-509cf6f2bab8",
   "metadata": {},
   "outputs": [
    {
     "name": "stdout",
     "output_type": "stream",
     "text": [
      "Training samples: 5625\n",
      "Testing samples: 1407\n"
     ]
    }
   ],
   "source": [
    "from sklearn.model_selection import train_test_split\n",
    "\n",
    "# Split data into 80% training and 20% testing\n",
    "X_train, X_test, y_train, y_test = train_test_split(\n",
    "    X, y, test_size=0.2, stratify=y, random_state=42)\n",
    "\n",
    "print(\"Training samples:\", X_train.shape[0])\n",
    "print(\"Testing samples:\", X_test.shape[0])\n",
    "# Here we ensure the same class ratio (churn vs. no churn) exists in training and testing sets."
   ]
  },
  {
   "cell_type": "markdown",
   "id": "70b2c3df-8943-4928-99c7-f7815b80311e",
   "metadata": {
    "jp-MarkdownHeadingCollapsed": true
   },
   "source": [
    "###  Feature Scaling"
   ]
  },
  {
   "cell_type": "code",
   "execution_count": 192,
   "id": "f2461a3e-e7c0-4115-9bbc-d90b142a3216",
   "metadata": {},
   "outputs": [],
   "source": [
    "from sklearn.preprocessing import StandardScaler\n",
    "\n",
    "# Scale the features for Logistic Regression\n",
    "scaler = StandardScaler()\n",
    "X_train_scaled = scaler.fit_transform(X_train)\n",
    "X_test_scaled = scaler.transform(X_test)\n",
    "# Logistic Regression is sensitive to feature scales — scaling improves convergence and performance."
   ]
  },
  {
   "cell_type": "markdown",
   "id": "2c6c0712-d877-4e2c-9075-8c93ad99f422",
   "metadata": {
    "jp-MarkdownHeadingCollapsed": true
   },
   "source": [
    "### Train Logistic Regression Model"
   ]
  },
  {
   "cell_type": "code",
   "execution_count": 193,
   "id": "386de724-33a9-4720-897e-6cae14e821fb",
   "metadata": {},
   "outputs": [
    {
     "data": {
      "text/html": [
       "<style>#sk-container-id-4 {\n",
       "  /* Definition of color scheme common for light and dark mode */\n",
       "  --sklearn-color-text: black;\n",
       "  --sklearn-color-line: gray;\n",
       "  /* Definition of color scheme for unfitted estimators */\n",
       "  --sklearn-color-unfitted-level-0: #fff5e6;\n",
       "  --sklearn-color-unfitted-level-1: #f6e4d2;\n",
       "  --sklearn-color-unfitted-level-2: #ffe0b3;\n",
       "  --sklearn-color-unfitted-level-3: chocolate;\n",
       "  /* Definition of color scheme for fitted estimators */\n",
       "  --sklearn-color-fitted-level-0: #f0f8ff;\n",
       "  --sklearn-color-fitted-level-1: #d4ebff;\n",
       "  --sklearn-color-fitted-level-2: #b3dbfd;\n",
       "  --sklearn-color-fitted-level-3: cornflowerblue;\n",
       "\n",
       "  /* Specific color for light theme */\n",
       "  --sklearn-color-text-on-default-background: var(--sg-text-color, var(--theme-code-foreground, var(--jp-content-font-color1, black)));\n",
       "  --sklearn-color-background: var(--sg-background-color, var(--theme-background, var(--jp-layout-color0, white)));\n",
       "  --sklearn-color-border-box: var(--sg-text-color, var(--theme-code-foreground, var(--jp-content-font-color1, black)));\n",
       "  --sklearn-color-icon: #696969;\n",
       "\n",
       "  @media (prefers-color-scheme: dark) {\n",
       "    /* Redefinition of color scheme for dark theme */\n",
       "    --sklearn-color-text-on-default-background: var(--sg-text-color, var(--theme-code-foreground, var(--jp-content-font-color1, white)));\n",
       "    --sklearn-color-background: var(--sg-background-color, var(--theme-background, var(--jp-layout-color0, #111)));\n",
       "    --sklearn-color-border-box: var(--sg-text-color, var(--theme-code-foreground, var(--jp-content-font-color1, white)));\n",
       "    --sklearn-color-icon: #878787;\n",
       "  }\n",
       "}\n",
       "\n",
       "#sk-container-id-4 {\n",
       "  color: var(--sklearn-color-text);\n",
       "}\n",
       "\n",
       "#sk-container-id-4 pre {\n",
       "  padding: 0;\n",
       "}\n",
       "\n",
       "#sk-container-id-4 input.sk-hidden--visually {\n",
       "  border: 0;\n",
       "  clip: rect(1px 1px 1px 1px);\n",
       "  clip: rect(1px, 1px, 1px, 1px);\n",
       "  height: 1px;\n",
       "  margin: -1px;\n",
       "  overflow: hidden;\n",
       "  padding: 0;\n",
       "  position: absolute;\n",
       "  width: 1px;\n",
       "}\n",
       "\n",
       "#sk-container-id-4 div.sk-dashed-wrapped {\n",
       "  border: 1px dashed var(--sklearn-color-line);\n",
       "  margin: 0 0.4em 0.5em 0.4em;\n",
       "  box-sizing: border-box;\n",
       "  padding-bottom: 0.4em;\n",
       "  background-color: var(--sklearn-color-background);\n",
       "}\n",
       "\n",
       "#sk-container-id-4 div.sk-container {\n",
       "  /* jupyter's `normalize.less` sets `[hidden] { display: none; }`\n",
       "     but bootstrap.min.css set `[hidden] { display: none !important; }`\n",
       "     so we also need the `!important` here to be able to override the\n",
       "     default hidden behavior on the sphinx rendered scikit-learn.org.\n",
       "     See: https://github.com/scikit-learn/scikit-learn/issues/21755 */\n",
       "  display: inline-block !important;\n",
       "  position: relative;\n",
       "}\n",
       "\n",
       "#sk-container-id-4 div.sk-text-repr-fallback {\n",
       "  display: none;\n",
       "}\n",
       "\n",
       "div.sk-parallel-item,\n",
       "div.sk-serial,\n",
       "div.sk-item {\n",
       "  /* draw centered vertical line to link estimators */\n",
       "  background-image: linear-gradient(var(--sklearn-color-text-on-default-background), var(--sklearn-color-text-on-default-background));\n",
       "  background-size: 2px 100%;\n",
       "  background-repeat: no-repeat;\n",
       "  background-position: center center;\n",
       "}\n",
       "\n",
       "/* Parallel-specific style estimator block */\n",
       "\n",
       "#sk-container-id-4 div.sk-parallel-item::after {\n",
       "  content: \"\";\n",
       "  width: 100%;\n",
       "  border-bottom: 2px solid var(--sklearn-color-text-on-default-background);\n",
       "  flex-grow: 1;\n",
       "}\n",
       "\n",
       "#sk-container-id-4 div.sk-parallel {\n",
       "  display: flex;\n",
       "  align-items: stretch;\n",
       "  justify-content: center;\n",
       "  background-color: var(--sklearn-color-background);\n",
       "  position: relative;\n",
       "}\n",
       "\n",
       "#sk-container-id-4 div.sk-parallel-item {\n",
       "  display: flex;\n",
       "  flex-direction: column;\n",
       "}\n",
       "\n",
       "#sk-container-id-4 div.sk-parallel-item:first-child::after {\n",
       "  align-self: flex-end;\n",
       "  width: 50%;\n",
       "}\n",
       "\n",
       "#sk-container-id-4 div.sk-parallel-item:last-child::after {\n",
       "  align-self: flex-start;\n",
       "  width: 50%;\n",
       "}\n",
       "\n",
       "#sk-container-id-4 div.sk-parallel-item:only-child::after {\n",
       "  width: 0;\n",
       "}\n",
       "\n",
       "/* Serial-specific style estimator block */\n",
       "\n",
       "#sk-container-id-4 div.sk-serial {\n",
       "  display: flex;\n",
       "  flex-direction: column;\n",
       "  align-items: center;\n",
       "  background-color: var(--sklearn-color-background);\n",
       "  padding-right: 1em;\n",
       "  padding-left: 1em;\n",
       "}\n",
       "\n",
       "\n",
       "/* Toggleable style: style used for estimator/Pipeline/ColumnTransformer box that is\n",
       "clickable and can be expanded/collapsed.\n",
       "- Pipeline and ColumnTransformer use this feature and define the default style\n",
       "- Estimators will overwrite some part of the style using the `sk-estimator` class\n",
       "*/\n",
       "\n",
       "/* Pipeline and ColumnTransformer style (default) */\n",
       "\n",
       "#sk-container-id-4 div.sk-toggleable {\n",
       "  /* Default theme specific background. It is overwritten whether we have a\n",
       "  specific estimator or a Pipeline/ColumnTransformer */\n",
       "  background-color: var(--sklearn-color-background);\n",
       "}\n",
       "\n",
       "/* Toggleable label */\n",
       "#sk-container-id-4 label.sk-toggleable__label {\n",
       "  cursor: pointer;\n",
       "  display: block;\n",
       "  width: 100%;\n",
       "  margin-bottom: 0;\n",
       "  padding: 0.5em;\n",
       "  box-sizing: border-box;\n",
       "  text-align: center;\n",
       "}\n",
       "\n",
       "#sk-container-id-4 label.sk-toggleable__label-arrow:before {\n",
       "  /* Arrow on the left of the label */\n",
       "  content: \"▸\";\n",
       "  float: left;\n",
       "  margin-right: 0.25em;\n",
       "  color: var(--sklearn-color-icon);\n",
       "}\n",
       "\n",
       "#sk-container-id-4 label.sk-toggleable__label-arrow:hover:before {\n",
       "  color: var(--sklearn-color-text);\n",
       "}\n",
       "\n",
       "/* Toggleable content - dropdown */\n",
       "\n",
       "#sk-container-id-4 div.sk-toggleable__content {\n",
       "  max-height: 0;\n",
       "  max-width: 0;\n",
       "  overflow: hidden;\n",
       "  text-align: left;\n",
       "  /* unfitted */\n",
       "  background-color: var(--sklearn-color-unfitted-level-0);\n",
       "}\n",
       "\n",
       "#sk-container-id-4 div.sk-toggleable__content.fitted {\n",
       "  /* fitted */\n",
       "  background-color: var(--sklearn-color-fitted-level-0);\n",
       "}\n",
       "\n",
       "#sk-container-id-4 div.sk-toggleable__content pre {\n",
       "  margin: 0.2em;\n",
       "  border-radius: 0.25em;\n",
       "  color: var(--sklearn-color-text);\n",
       "  /* unfitted */\n",
       "  background-color: var(--sklearn-color-unfitted-level-0);\n",
       "}\n",
       "\n",
       "#sk-container-id-4 div.sk-toggleable__content.fitted pre {\n",
       "  /* unfitted */\n",
       "  background-color: var(--sklearn-color-fitted-level-0);\n",
       "}\n",
       "\n",
       "#sk-container-id-4 input.sk-toggleable__control:checked~div.sk-toggleable__content {\n",
       "  /* Expand drop-down */\n",
       "  max-height: 200px;\n",
       "  max-width: 100%;\n",
       "  overflow: auto;\n",
       "}\n",
       "\n",
       "#sk-container-id-4 input.sk-toggleable__control:checked~label.sk-toggleable__label-arrow:before {\n",
       "  content: \"▾\";\n",
       "}\n",
       "\n",
       "/* Pipeline/ColumnTransformer-specific style */\n",
       "\n",
       "#sk-container-id-4 div.sk-label input.sk-toggleable__control:checked~label.sk-toggleable__label {\n",
       "  color: var(--sklearn-color-text);\n",
       "  background-color: var(--sklearn-color-unfitted-level-2);\n",
       "}\n",
       "\n",
       "#sk-container-id-4 div.sk-label.fitted input.sk-toggleable__control:checked~label.sk-toggleable__label {\n",
       "  background-color: var(--sklearn-color-fitted-level-2);\n",
       "}\n",
       "\n",
       "/* Estimator-specific style */\n",
       "\n",
       "/* Colorize estimator box */\n",
       "#sk-container-id-4 div.sk-estimator input.sk-toggleable__control:checked~label.sk-toggleable__label {\n",
       "  /* unfitted */\n",
       "  background-color: var(--sklearn-color-unfitted-level-2);\n",
       "}\n",
       "\n",
       "#sk-container-id-4 div.sk-estimator.fitted input.sk-toggleable__control:checked~label.sk-toggleable__label {\n",
       "  /* fitted */\n",
       "  background-color: var(--sklearn-color-fitted-level-2);\n",
       "}\n",
       "\n",
       "#sk-container-id-4 div.sk-label label.sk-toggleable__label,\n",
       "#sk-container-id-4 div.sk-label label {\n",
       "  /* The background is the default theme color */\n",
       "  color: var(--sklearn-color-text-on-default-background);\n",
       "}\n",
       "\n",
       "/* On hover, darken the color of the background */\n",
       "#sk-container-id-4 div.sk-label:hover label.sk-toggleable__label {\n",
       "  color: var(--sklearn-color-text);\n",
       "  background-color: var(--sklearn-color-unfitted-level-2);\n",
       "}\n",
       "\n",
       "/* Label box, darken color on hover, fitted */\n",
       "#sk-container-id-4 div.sk-label.fitted:hover label.sk-toggleable__label.fitted {\n",
       "  color: var(--sklearn-color-text);\n",
       "  background-color: var(--sklearn-color-fitted-level-2);\n",
       "}\n",
       "\n",
       "/* Estimator label */\n",
       "\n",
       "#sk-container-id-4 div.sk-label label {\n",
       "  font-family: monospace;\n",
       "  font-weight: bold;\n",
       "  display: inline-block;\n",
       "  line-height: 1.2em;\n",
       "}\n",
       "\n",
       "#sk-container-id-4 div.sk-label-container {\n",
       "  text-align: center;\n",
       "}\n",
       "\n",
       "/* Estimator-specific */\n",
       "#sk-container-id-4 div.sk-estimator {\n",
       "  font-family: monospace;\n",
       "  border: 1px dotted var(--sklearn-color-border-box);\n",
       "  border-radius: 0.25em;\n",
       "  box-sizing: border-box;\n",
       "  margin-bottom: 0.5em;\n",
       "  /* unfitted */\n",
       "  background-color: var(--sklearn-color-unfitted-level-0);\n",
       "}\n",
       "\n",
       "#sk-container-id-4 div.sk-estimator.fitted {\n",
       "  /* fitted */\n",
       "  background-color: var(--sklearn-color-fitted-level-0);\n",
       "}\n",
       "\n",
       "/* on hover */\n",
       "#sk-container-id-4 div.sk-estimator:hover {\n",
       "  /* unfitted */\n",
       "  background-color: var(--sklearn-color-unfitted-level-2);\n",
       "}\n",
       "\n",
       "#sk-container-id-4 div.sk-estimator.fitted:hover {\n",
       "  /* fitted */\n",
       "  background-color: var(--sklearn-color-fitted-level-2);\n",
       "}\n",
       "\n",
       "/* Specification for estimator info (e.g. \"i\" and \"?\") */\n",
       "\n",
       "/* Common style for \"i\" and \"?\" */\n",
       "\n",
       ".sk-estimator-doc-link,\n",
       "a:link.sk-estimator-doc-link,\n",
       "a:visited.sk-estimator-doc-link {\n",
       "  float: right;\n",
       "  font-size: smaller;\n",
       "  line-height: 1em;\n",
       "  font-family: monospace;\n",
       "  background-color: var(--sklearn-color-background);\n",
       "  border-radius: 1em;\n",
       "  height: 1em;\n",
       "  width: 1em;\n",
       "  text-decoration: none !important;\n",
       "  margin-left: 1ex;\n",
       "  /* unfitted */\n",
       "  border: var(--sklearn-color-unfitted-level-1) 1pt solid;\n",
       "  color: var(--sklearn-color-unfitted-level-1);\n",
       "}\n",
       "\n",
       ".sk-estimator-doc-link.fitted,\n",
       "a:link.sk-estimator-doc-link.fitted,\n",
       "a:visited.sk-estimator-doc-link.fitted {\n",
       "  /* fitted */\n",
       "  border: var(--sklearn-color-fitted-level-1) 1pt solid;\n",
       "  color: var(--sklearn-color-fitted-level-1);\n",
       "}\n",
       "\n",
       "/* On hover */\n",
       "div.sk-estimator:hover .sk-estimator-doc-link:hover,\n",
       ".sk-estimator-doc-link:hover,\n",
       "div.sk-label-container:hover .sk-estimator-doc-link:hover,\n",
       ".sk-estimator-doc-link:hover {\n",
       "  /* unfitted */\n",
       "  background-color: var(--sklearn-color-unfitted-level-3);\n",
       "  color: var(--sklearn-color-background);\n",
       "  text-decoration: none;\n",
       "}\n",
       "\n",
       "div.sk-estimator.fitted:hover .sk-estimator-doc-link.fitted:hover,\n",
       ".sk-estimator-doc-link.fitted:hover,\n",
       "div.sk-label-container:hover .sk-estimator-doc-link.fitted:hover,\n",
       ".sk-estimator-doc-link.fitted:hover {\n",
       "  /* fitted */\n",
       "  background-color: var(--sklearn-color-fitted-level-3);\n",
       "  color: var(--sklearn-color-background);\n",
       "  text-decoration: none;\n",
       "}\n",
       "\n",
       "/* Span, style for the box shown on hovering the info icon */\n",
       ".sk-estimator-doc-link span {\n",
       "  display: none;\n",
       "  z-index: 9999;\n",
       "  position: relative;\n",
       "  font-weight: normal;\n",
       "  right: .2ex;\n",
       "  padding: .5ex;\n",
       "  margin: .5ex;\n",
       "  width: min-content;\n",
       "  min-width: 20ex;\n",
       "  max-width: 50ex;\n",
       "  color: var(--sklearn-color-text);\n",
       "  box-shadow: 2pt 2pt 4pt #999;\n",
       "  /* unfitted */\n",
       "  background: var(--sklearn-color-unfitted-level-0);\n",
       "  border: .5pt solid var(--sklearn-color-unfitted-level-3);\n",
       "}\n",
       "\n",
       ".sk-estimator-doc-link.fitted span {\n",
       "  /* fitted */\n",
       "  background: var(--sklearn-color-fitted-level-0);\n",
       "  border: var(--sklearn-color-fitted-level-3);\n",
       "}\n",
       "\n",
       ".sk-estimator-doc-link:hover span {\n",
       "  display: block;\n",
       "}\n",
       "\n",
       "/* \"?\"-specific style due to the `<a>` HTML tag */\n",
       "\n",
       "#sk-container-id-4 a.estimator_doc_link {\n",
       "  float: right;\n",
       "  font-size: 1rem;\n",
       "  line-height: 1em;\n",
       "  font-family: monospace;\n",
       "  background-color: var(--sklearn-color-background);\n",
       "  border-radius: 1rem;\n",
       "  height: 1rem;\n",
       "  width: 1rem;\n",
       "  text-decoration: none;\n",
       "  /* unfitted */\n",
       "  color: var(--sklearn-color-unfitted-level-1);\n",
       "  border: var(--sklearn-color-unfitted-level-1) 1pt solid;\n",
       "}\n",
       "\n",
       "#sk-container-id-4 a.estimator_doc_link.fitted {\n",
       "  /* fitted */\n",
       "  border: var(--sklearn-color-fitted-level-1) 1pt solid;\n",
       "  color: var(--sklearn-color-fitted-level-1);\n",
       "}\n",
       "\n",
       "/* On hover */\n",
       "#sk-container-id-4 a.estimator_doc_link:hover {\n",
       "  /* unfitted */\n",
       "  background-color: var(--sklearn-color-unfitted-level-3);\n",
       "  color: var(--sklearn-color-background);\n",
       "  text-decoration: none;\n",
       "}\n",
       "\n",
       "#sk-container-id-4 a.estimator_doc_link.fitted:hover {\n",
       "  /* fitted */\n",
       "  background-color: var(--sklearn-color-fitted-level-3);\n",
       "}\n",
       "</style><div id=\"sk-container-id-4\" class=\"sk-top-container\"><div class=\"sk-text-repr-fallback\"><pre>LogisticRegression(class_weight=&#x27;balanced&#x27;, max_iter=1000, random_state=42)</pre><b>In a Jupyter environment, please rerun this cell to show the HTML representation or trust the notebook. <br />On GitHub, the HTML representation is unable to render, please try loading this page with nbviewer.org.</b></div><div class=\"sk-container\" hidden><div class=\"sk-item\"><div class=\"sk-estimator fitted sk-toggleable\"><input class=\"sk-toggleable__control sk-hidden--visually\" id=\"sk-estimator-id-4\" type=\"checkbox\" checked><label for=\"sk-estimator-id-4\" class=\"sk-toggleable__label fitted sk-toggleable__label-arrow fitted\">&nbsp;&nbsp;LogisticRegression<a class=\"sk-estimator-doc-link fitted\" rel=\"noreferrer\" target=\"_blank\" href=\"https://scikit-learn.org/1.5/modules/generated/sklearn.linear_model.LogisticRegression.html\">?<span>Documentation for LogisticRegression</span></a><span class=\"sk-estimator-doc-link fitted\">i<span>Fitted</span></span></label><div class=\"sk-toggleable__content fitted\"><pre>LogisticRegression(class_weight=&#x27;balanced&#x27;, max_iter=1000, random_state=42)</pre></div> </div></div></div></div>"
      ],
      "text/plain": [
       "LogisticRegression(class_weight='balanced', max_iter=1000, random_state=42)"
      ]
     },
     "execution_count": 193,
     "metadata": {},
     "output_type": "execute_result"
    }
   ],
   "source": [
    "from sklearn.linear_model import LogisticRegression\n",
    "\n",
    "# Initialize and train the model\n",
    "logreg = LogisticRegression(max_iter=1000, class_weight='balanced', random_state=42)\n",
    "logreg.fit(X_train_scaled, y_train)\n",
    "#  class_weight='balanced' helps compensate for churn class imbalance."
   ]
  },
  {
   "cell_type": "markdown",
   "id": "b662a307-b1cd-4bb1-a154-9584dc5f78ad",
   "metadata": {
    "jp-MarkdownHeadingCollapsed": true
   },
   "source": [
    "###  Evaluate Model Performance"
   ]
  },
  {
   "cell_type": "code",
   "execution_count": 194,
   "id": "024a263f-ae2c-4491-8133-78e96846213e",
   "metadata": {},
   "outputs": [
    {
     "name": "stdout",
     "output_type": "stream",
     "text": [
      "Accuracy: 0.7263681592039801\n",
      "\n",
      "Classification Report:\n",
      "               precision    recall  f1-score   support\n",
      "\n",
      "           0       0.91      0.70      0.79      1033\n",
      "           1       0.49      0.80      0.61       374\n",
      "\n",
      "    accuracy                           0.73      1407\n",
      "   macro avg       0.70      0.75      0.70      1407\n",
      "weighted avg       0.79      0.73      0.74      1407\n",
      "\n"
     ]
    }
   ],
   "source": [
    "from sklearn.metrics import classification_report, confusion_matrix, accuracy_score\n",
    "\n",
    "# Predict on test data\n",
    "y_pred = logreg.predict(X_test_scaled)\n",
    "\n",
    "# Print evaluation metrics\n",
    "print(\"Accuracy:\", accuracy_score(y_test, y_pred))\n",
    "print(\"\\nClassification Report:\\n\", classification_report(y_test, y_pred))"
   ]
  },
  {
   "cell_type": "markdown",
   "id": "c6b9e0ad-32fc-4efe-9619-69b6467fddf0",
   "metadata": {
    "jp-MarkdownHeadingCollapsed": true
   },
   "source": [
    "### Confusion Matrix Visualization"
   ]
  },
  {
   "cell_type": "code",
   "execution_count": 195,
   "id": "b884440a-d4d9-4ca0-bd3e-949474a1bb8e",
   "metadata": {},
   "outputs": [
    {
     "data": {
      "image/png": "[encoded data removed]",
      "text/plain": [
       "<Figure size 640x480 with 2 Axes>"
      ]
     },
     "metadata": {},
     "output_type": "display_data"
    }
   ],
   "source": [
    "import seaborn as sns\n",
    "import matplotlib.pyplot as plt\n",
    "\n",
    "cm = confusion_matrix(y_test, y_pred)\n",
    "sns.heatmap(cm, annot=True, fmt='d', cmap='Blues', xticklabels=['No', 'Yes'], yticklabels=['No', 'Yes'])\n",
    "plt.xlabel('Predicted')\n",
    "plt.ylabel('Actual')\n",
    "plt.title('Confusion Matrix - Logistic Regression')\n",
    "plt.show()"
   ]
  },
  {
   "cell_type": "markdown",
   "id": "dbdf145d-8ab1-4945-afc8-d296f2d2da8c",
   "metadata": {},
   "source": [
    "### **✅ Summary After Logistic Regression**\n",
    "\n",
    "We trained a baseline Logistic Regression model to predict customer churn using scaled features and class balancing. The dataset was split into an 80/20 training/testing set, preserving churn distribution.\n",
    "\n",
    "**🔹 Key Observations:**\n",
    "Feature scaling was applied to improve model performance.\n",
    "\n",
    "We used class_weight='balanced' to address the class imbalance (~26% churn rate).\n",
    "\n",
    "The model was evaluated using accuracy, precision, recall, F1-score, and a confusion matrix.\n",
    "\n",
    "**🔹 Results:**\n",
    "The model achieved reasonable overall accuracy.\n",
    "\n",
    "It performed better at identifying non-churners than churners.\n",
    "\n",
    "Recall and F1-score for churned customers were moderate, indicating room for improvement.\n"
   ]
  },
  {
   "cell_type": "markdown",
   "id": "84a63e47-fcb1-408c-919d-ee66bfcfb0af",
   "metadata": {},
   "source": [
    "## 📌 Step 6: Model Comparison"
   ]
  },
  {
   "cell_type": "markdown",
   "id": "956e7487-cd83-49a2-8a7b-fecf1f77dfff",
   "metadata": {},
   "source": [
    "**Goal: Train multiple models, compare their performance on churn prediction, and identify the best performer using metrics like accuracy, precision, recall, F1-score, and ROC AUC.**"
   ]
  },
  {
   "cell_type": "markdown",
   "id": "f16c6eea-7f46-4600-8995-6f5abcaea1e4",
   "metadata": {},
   "source": [
    "**Models We'll Train:**\n",
    "\n",
    "**Decision Tree Classifier**\n",
    "\n",
    "**Random Forest Classifier**\n",
    "\n",
    "**XGBoost Classifier (if available)**\n",
    "\n"
   ]
  },
  {
   "cell_type": "code",
   "execution_count": 196,
   "id": "65dc4e08-fe5a-40cb-86f1-e98699816c43",
   "metadata": {},
   "outputs": [],
   "source": [
    "# Let's Import some libraries that we need \n",
    "from sklearn.metrics import classification_report, confusion_matrix, accuracy_score, roc_auc_score\n",
    "from sklearn.tree import DecisionTreeClassifier\n",
    "from sklearn.ensemble import RandomForestClassifier\n",
    "from xgboost import XGBClassifier\n",
    "\n",
    "# Store results\n",
    "model_results = {}"
   ]
  },
  {
   "cell_type": "code",
   "execution_count": 197,
   "id": "934e1fd2-97df-49e7-bc65-939efa2d9460",
   "metadata": {},
   "outputs": [],
   "source": [
    "# Let's get started"
   ]
  },
  {
   "cell_type": "markdown",
   "id": "834c6539-658c-49f5-ac09-ad7b55fbc2f7",
   "metadata": {
    "jp-MarkdownHeadingCollapsed": true
   },
   "source": [
    "### Decision Tree Classifier"
   ]
  },
  {
   "cell_type": "markdown",
   "id": "b1b15027-cd57-4bc4-91a0-465fa3335364",
   "metadata": {},
   "source": [
    "**Why: Simple, interpretable model. Useful to identify dominant churn rules (e.g., low tenure, high monthly charges).**\n",
    "\n",
    "**Strengths: Fast, easy to visualize.**\n",
    "\n",
    "**Limitations: Prone to overfitting, may underperform without tuning.**"
   ]
  },
  {
   "cell_type": "code",
   "execution_count": 198,
   "id": "19702b9b-71c5-457c-95ef-fcb8cee71281",
   "metadata": {},
   "outputs": [],
   "source": [
    "dt = DecisionTreeClassifier(random_state=42, class_weight='balanced')\n",
    "dt.fit(X_train, y_train)\n",
    "y_pred_dt = dt.predict(X_test)\n",
    "\n",
    "# Metrics\n",
    "model_results['Decision Tree'] = {\n",
    "    'accuracy': accuracy_score(y_test, y_pred_dt),\n",
    "    'roc_auc': roc_auc_score(y_test, y_pred_dt),\n",
    "    'report': classification_report(y_test, y_pred_dt, output_dict=True)\n",
    "}"
   ]
  },
  {
   "cell_type": "markdown",
   "id": "069f2433-329b-4117-bae1-0b9c0fe26bab",
   "metadata": {
    "jp-MarkdownHeadingCollapsed": true
   },
   "source": [
    "### Random Forest Classifier"
   ]
  },
  {
   "cell_type": "markdown",
   "id": "58886065-93d3-482a-929e-9f4e062c2e58",
   "metadata": {},
   "source": [
    "**Why: Ensemble of decision trees. Improves generalization by reducing overfitting.**\n",
    "\n",
    "**Strengths: Handles imbalance well with class_weight, supports feature importance.**\n",
    "\n",
    "**Limitations: Less interpretable than a single tree.**"
   ]
  },
  {
   "cell_type": "code",
   "execution_count": 199,
   "id": "9d2446e5-3e94-45b2-9430-587c042b6d7b",
   "metadata": {},
   "outputs": [],
   "source": [
    "rf = RandomForestClassifier(random_state=42, class_weight='balanced')\n",
    "rf.fit(X_train, y_train)\n",
    "y_pred_rf = rf.predict(X_test)\n",
    "\n",
    "model_results['Random Forest'] = {\n",
    "    'accuracy': accuracy_score(y_test, y_pred_rf),\n",
    "    'roc_auc': roc_auc_score(y_test, y_pred_rf),\n",
    "    'report': classification_report(y_test, y_pred_rf, output_dict=True)\n",
    "}"
   ]
  },
  {
   "cell_type": "markdown",
   "id": "d71e674f-c915-4e3a-899b-f52a2e64dbcd",
   "metadata": {
    "jp-MarkdownHeadingCollapsed": true
   },
   "source": [
    "### XGBoost Classifier "
   ]
  },
  {
   "cell_type": "markdown",
   "id": "a968ca0b-8bc6-4028-80ce-f146f40fbb59",
   "metadata": {},
   "source": [
    "**Why: Popular gradient boosting algorithm. Often top performer in structured data tasks like churn.**\n",
    "\n",
    "**Strengths: High accuracy, handles class imbalance with built-in boosting.**\n",
    "\n",
    "**Limitations: Slightly longer training time, requires XGBoost package.**"
   ]
  },
  {
   "cell_type": "code",
   "execution_count": 200,
   "id": "a95f6457-1000-4d35-9652-1860d7e4b4ff",
   "metadata": {},
   "outputs": [],
   "source": [
    "# Initialize XGBoost without deprecated parameters\n",
    "xgb = XGBClassifier(\n",
    "    eval_metric='logloss',\n",
    "    scale_pos_weight=(y_train == 0).sum() / (y_train == 1).sum(),  # handle imbalance\n",
    "    random_state=42\n",
    ")\n",
    "\n",
    "# Fit model\n",
    "xgb.fit(X_train, y_train)\n",
    "y_pred_xgb = xgb.predict(X_test)\n",
    "\n",
    "# Store metrics\n",
    "model_results['XGBoost'] = {\n",
    "    'accuracy': accuracy_score(y_test, y_pred_xgb),\n",
    "    'roc_auc': roc_auc_score(y_test, y_pred_xgb),\n",
    "    'report': classification_report(y_test, y_pred_xgb, output_dict=True)\n",
    "}"
   ]
  },
  {
   "cell_type": "markdown",
   "id": "4d74403e-9319-4394-85ea-406cc35cc79a",
   "metadata": {
    "jp-MarkdownHeadingCollapsed": true
   },
   "source": [
    "### Compare Model Results"
   ]
  },
  {
   "cell_type": "code",
   "execution_count": 201,
   "id": "dc419c8f-7069-4f57-93e0-6df3ad564927",
   "metadata": {},
   "outputs": [
    {
     "name": "stdout",
     "output_type": "stream",
     "text": [
      "\n",
      "Model Comparison Summary:\n",
      "\n",
      "Decision Tree:\n",
      "  Accuracy: 0.7178\n",
      "  ROC AUC : 0.6415\n",
      "\n",
      "Random Forest:\n",
      "  Accuracy: 0.7903\n",
      "  ROC AUC : 0.6960\n",
      "\n",
      "XGBoost:\n",
      "  Accuracy: 0.7527\n",
      "  ROC AUC : 0.7309\n",
      "\n"
     ]
    }
   ],
   "source": [
    "# Show summary for accuracy and ROC AUC\n",
    "print(\"\\nModel Comparison Summary:\\n\")\n",
    "for model, metrics in model_results.items():\n",
    "    print(f\"{model}:\")\n",
    "    print(f\"  Accuracy: {metrics['accuracy']:.4f}\")\n",
    "    print(f\"  ROC AUC : {metrics['roc_auc']:.4f}\")\n",
    "    print()"
   ]
  },
  {
   "cell_type": "markdown",
   "id": "bbc0235d-448a-43aa-952d-b260e69bc552",
   "metadata": {},
   "source": [
    "**Accuracy: Overall correct predictions**\n",
    "\n",
    "**ROC AUC: Measures true positive vs. false positive rate — great for imbalanced datasets**"
   ]
  },
  {
   "cell_type": "markdown",
   "id": "2ece565a-daff-4587-b023-de197a72c580",
   "metadata": {},
   "source": [
    "### Plot Model Comparison"
   ]
  },
  {
   "cell_type": "code",
   "execution_count": 202,
   "id": "73ee590d-4495-4d10-86a8-16f3f0da6121",
   "metadata": {},
   "outputs": [
    {
     "data": {
      "image/png": "[encoded data removed]",
      "text/plain": [
       "<Figure size 1000x500 with 2 Axes>"
      ]
     },
     "metadata": {},
     "output_type": "display_data"
    }
   ],
   "source": [
    "import matplotlib.pyplot as plt\n",
    "\n",
    "# Extract accuracy and ROC AUC scores\n",
    "model_names = list(model_results.keys())\n",
    "accuracies = [model_results[m]['accuracy'] for m in model_names]\n",
    "roc_aucs = [model_results[m]['roc_auc'] for m in model_names]\n",
    "\n",
    "# Set figure\n",
    "plt.figure(figsize=(10, 5))\n",
    "\n",
    "# Plot Accuracy\n",
    "plt.subplot(1, 2, 1)\n",
    "plt.bar(model_names, accuracies, color='skyblue')\n",
    "plt.title('Model Accuracy')\n",
    "plt.ylabel('Accuracy Score')\n",
    "plt.ylim(0, 1)\n",
    "\n",
    "# Plot ROC AUC\n",
    "plt.subplot(1, 2, 2)\n",
    "plt.bar(model_names, roc_aucs, color='steelblue')\n",
    "plt.title('Model ROC AUC')\n",
    "plt.ylabel('ROC AUC Score')\n",
    "plt.ylim(0, 1)\n",
    "plt.savefig('images/model_comparison.png')\n",
    "plt.tight_layout()\n",
    "plt.show()\n",
    "\n"
   ]
  },
  {
   "cell_type": "markdown",
   "id": "7d2358ca-dbc5-4c0a-83be-b536e0f9105f",
   "metadata": {},
   "source": [
    "**Visualizing accuracy and ROC AUC side-by-side helps identify models that not only predict well overall but also handle class imbalance effectively.\n",
    "The best model is typically the one with the highest ROC AUC and strong recall for churners.**"
   ]
  },
  {
   "cell_type": "markdown",
   "id": "2e45ab2a-4476-4622-99e3-9e71808e2ef0",
   "metadata": {},
   "source": [
    "### Best Model Summary & Recommendation"
   ]
  },
  {
   "cell_type": "markdown",
   "id": "fd2f8d72-b948-4dfc-889d-bdee032e85dd",
   "metadata": {},
   "source": [
    "**✅ Model Comparison Summary**\n",
    "\n",
    "**We trained four models to predict customer churn:**\n",
    "\n",
    "**Model\tPurpose**\n",
    "\n",
    "Logistic Regression\tBaseline model with good interpretability\n",
    "\n",
    "Decision Tree\tSimple rule-based model for patterns\n",
    "\n",
    "Random Forest\tEnsemble method to reduce overfitting\n",
    "\n",
    "XGBoost\tAdvanced boosting model for accuracy and imbalance handling\n",
    "\n",
    "**Evaluation Metrics Used:**\n",
    "\n",
    "Accuracy\n",
    "\n",
    "ROC AUC (handles imbalance better)\n",
    "\n",
    "F1-score (via classification_report)"
   ]
  },
  {
   "cell_type": "markdown",
   "id": "e4a4d5a6-797e-4fc5-b2f4-f5a4d85ac791",
   "metadata": {},
   "source": [
    "**🔍 Recommendation**\n",
    "\n",
    "**Among all models, XGBoost performed the best overall in terms of ROC AUC, balanced accuracy, and recall for churners, making it the most suitable model for this business problem.**\n",
    "\n",
    "**✅ Recommendation: Use the XGBoost model for predicting churn and apply feature importance analysis to guide business retention strategies.**"
   ]
  }
 ],
 "metadata": {
  "kernelspec": {
   "display_name": "Python 3 (ipykernel)",
   "language": "python",
   "name": "python3"
  },
  "language_info": {
   "codemirror_mode": {
    "name": "ipython",
    "version": 3
   },
   "file_extension": ".py",
   "mimetype": "text/x-python",
   "name": "python",
   "nbconvert_exporter": "python",
   "pygments_lexer": "ipython3",
   "version": "3.12.3"
  }
 },
 "nbformat": 4,
 "nbformat_minor": 5
}
